{
 "cells": [
  {
   "cell_type": "code",
   "execution_count": 1,
   "metadata": {
    "collapsed": false
   },
   "outputs": [
    {
     "name": "stderr",
     "output_type": "stream",
     "text": [
      "/Users/huang/Dev/anaconda/lib/python3.5/site-packages/ass/__init__.py:7: UserWarning: Could not load renderer: dlsym(RTLD_DEFAULT, ass_set_fonts_dir): symbol not found\n",
      "  warnings.warn(\"Could not load renderer: \" + str(e))\n"
     ]
    }
   ],
   "source": [
    "import ass\n",
    "import re\n",
    "import os \n",
    "from os import path\n",
    "from shutil import copyfile\n",
    "from mafan import simplify\n",
    "from guess_language import guess_language\n",
    "from itertools import compress"
   ]
  },
  {
   "cell_type": "code",
   "execution_count": 2,
   "metadata": {
    "collapsed": false
   },
   "outputs": [],
   "source": [
    "## get rid of all tags \n",
    "def replace_special(line_str):\n",
    "    line_str = re.sub('[『』【】「」♫．#♪]','',line_str)\n",
    "    line_str = re.sub(r'\\{.*?\\}','',line_str)     # non greedy match \n",
    "    line_str = re.sub(r'\\<.*?\\>','',line_str)     # non greedy match \n",
    "    return line_str \n",
    "\n",
    "def check_chinese(text):\n",
    "    ch = re.findall(r'[\\u4e00-\\u9fff]+', text)\n",
    "    return ch\n",
    "def check_english(text):\n",
    "    en = re.findall(r\"[A-Za-z]+\", text)\n",
    "    return en\n",
    "\n",
    "def check_dir(folder):\n",
    "    if not os.path.exists(folder):\n",
    "        os.makedirs(folder)        # If not create the directory, inside their home directory\n",
    "        return True \n",
    "    \n",
    "## use either gbk or big5 or utf-8\n",
    "def open_ass(file):\n",
    "    try:\n",
    "        with open(file, \"r\",encoding=\"gbk\") as f:\n",
    "             doc = ass.parse(f)\n",
    "        return doc \n",
    "    except:\n",
    "        pass\n",
    "    try:\n",
    "        with open(file, \"r\",encoding=\"big5\") as f:\n",
    "             doc = ass.parse(f)\n",
    "        return doc \n",
    "    except:\n",
    "        pass\n",
    "    try:\n",
    "        with open(file, \"r\",encoding=\"utf-8\") as f:\n",
    "             doc = ass.parse(f)\n",
    "        return doc \n",
    "    except:\n",
    "        pass\n",
    "    \n",
    "    return None\n",
    "\n",
    "def process_language(ele):\n",
    "    try:\n",
    "        text_list = ele.text.split('\\\\N')\n",
    "        text_list = [replace_special(x) for x in text_list]\n",
    "        languages = [guess_language(l) for l in text_list]\n",
    "        en_index = [l=='en' for l in languages]\n",
    "        zh_index = [l=='zh' for l in languages]\n",
    "        en_lines = list(compress(text_list,en_index))\n",
    "        zh_lines = list(compress(text_list,zh_index))\n",
    "        if len(en_lines)==0 or len(zh_lines)==0:\n",
    "            return None\n",
    "        en_text = ' '.join(en_lines)\n",
    "        if len(check_chinese(en_text)) > 0:\n",
    "            return None \n",
    "        zh_text = simplify(' '.join(zh_lines))\n",
    "        if len(check_english(zh_text))>0:\n",
    "            return None\n",
    "        text_line = en_text + ' | ' + zh_text\n",
    "        text_line = re.sub(r'\\\\n',' ',text_line)\n",
    "        return text_line\n",
    "    except:\n",
    "        return None\n",
    "    \n",
    "def validate_ass(file):\n",
    "    subs = open_ass(file)\n",
    "    if subs is not None:\n",
    "        subs = subs.events\n",
    "        languages = [process_language(ele) for ele in subs]\n",
    "        return languages\n",
    "    else:\n",
    "        #print('Can not decode.')\n",
    "        return None"
   ]
  },
  {
   "cell_type": "code",
   "execution_count": 3,
   "metadata": {
    "collapsed": false
   },
   "outputs": [
    {
     "data": {
      "text/plain": [
       "[None, None, True]"
      ]
     },
     "execution_count": 3,
     "metadata": {},
     "output_type": "execute_result"
    }
   ],
   "source": [
    "process_folder = 'data/process3/'\n",
    "data_ass = process_folder + 'data_ass/'\n",
    "results_raw = process_folder + 'data_results_ass/'\n",
    "\n",
    "folders = [process_folder,data_ass,results_raw]\n",
    "[check_dir(x) for x in folders]"
   ]
  },
  {
   "cell_type": "code",
   "execution_count": 4,
   "metadata": {
    "collapsed": false
   },
   "outputs": [
    {
     "data": {
      "text/plain": [
       "18157"
      ]
     },
     "execution_count": 4,
     "metadata": {},
     "output_type": "execute_result"
    }
   ],
   "source": [
    "file_ass = [data_ass + f for f in os.listdir(data_ass)]\n",
    "len(file_ass)"
   ]
  },
  {
   "cell_type": "code",
   "execution_count": 5,
   "metadata": {
    "collapsed": false,
    "scrolled": true
   },
   "outputs": [
    {
     "name": "stdout",
     "output_type": "stream",
     "text": [
      "20\n",
      "40\n",
      "60\n",
      "80\n",
      "100\n",
      "120\n",
      "140\n",
      "160\n",
      "180\n",
      "200\n",
      "220\n",
      "240\n",
      "260\n",
      "280\n",
      "300\n",
      "320\n",
      "340\n",
      "360\n",
      "380\n",
      "400\n",
      "420\n"
     ]
    }
   ],
   "source": [
    "## search for srts with both chinese and english in it\n",
    "## and transform them into txt, seperated by |, dump to results raw\n",
    "#file_ass = file_ass[:200]\n",
    "counter=0\n",
    "for ass_file in file_ass:\n",
    "    res = validate_ass(ass_file)\n",
    "    if res is not None: \n",
    "        total = len(res)\n",
    "        #print(total) \n",
    "        if total > 0:\n",
    "            none_values = sum([x is None for x in res ])\n",
    "            ratio = float(none_values)/float(total)\n",
    "            if ratio > 0.5:  \n",
    "                pass         \n",
    "            else:\n",
    "                res_short = res[5:-5]\n",
    "                res_short = [x for x in res_short if x is not None]\n",
    "                counter+=1\n",
    "                filename, file_extension = os.path.splitext(ass_file)\n",
    "                fname = filename.split('/')[-1]\n",
    "                fname = results_raw + str(counter)+'_'+fname+'.txt'\n",
    "                with open(fname, mode='wt', encoding='utf-8') as myfile:\n",
    "                    myfile.write('\\n'.join(res_short))\n",
    "                if counter%20 == 0:\n",
    "                    print(counter)\n"
   ]
  },
  {
   "cell_type": "code",
   "execution_count": null,
   "metadata": {
    "collapsed": true
   },
   "outputs": [],
   "source": []
  }
 ],
 "metadata": {
  "anaconda-cloud": {},
  "kernelspec": {
   "display_name": "Python [conda root]",
   "language": "python",
   "name": "conda-root-py"
  },
  "language_info": {
   "codemirror_mode": {
    "name": "ipython",
    "version": 3
   },
   "file_extension": ".py",
   "mimetype": "text/x-python",
   "name": "python",
   "nbconvert_exporter": "python",
   "pygments_lexer": "ipython3",
   "version": "3.5.2"
  }
 },
 "nbformat": 4,
 "nbformat_minor": 1
}
