{
 "cells": [
  {
   "cell_type": "code",
   "execution_count": 1,
   "metadata": {
    "collapsed": true
   },
   "outputs": [],
   "source": [
    "from bs4 import BeautifulSoup\n",
    "import requests\n",
    "import pandas as pd\n",
    "import os "
   ]
  },
  {
   "cell_type": "markdown",
   "metadata": {},
   "source": [
    "## 1.Get all links for zimuku items"
   ]
  },
  {
   "cell_type": "code",
   "execution_count": 2,
   "metadata": {
    "collapsed": false
   },
   "outputs": [
    {
     "name": "stdout",
     "output_type": "stream",
     "text": [
      "200\n"
     ]
    }
   ],
   "source": [
    "## send the request\n",
    "url = \"http://www.zimuku.net/search?q=&t=onlyst\"\n",
    "result = requests.get(url)\n",
    "print(result.status_code)"
   ]
  },
  {
   "cell_type": "code",
   "execution_count": 3,
   "metadata": {
    "collapsed": false
   },
   "outputs": [
    {
     "name": "stdout",
     "output_type": "stream",
     "text": [
      "12993\n"
     ]
    }
   ],
   "source": [
    "## get page number\n",
    "c = result.content\n",
    "soup = BeautifulSoup(c,\"lxml\")\n",
    "pages =  soup.find('div',{'class':'pagination r clearfix'}).find('div')\n",
    "page_num = pages.findAll('a')[-1].getText()\n",
    "page_num = int(page_num)\n",
    "print(page_num)\n"
   ]
  },
  {
   "cell_type": "code",
   "execution_count": 4,
   "metadata": {
    "collapsed": false
   },
   "outputs": [],
   "source": [
    "## get download link from title link \n",
    "def get_down_link(url):\n",
    "    #url = \"http://www.zimuku.net/shooter/57265.html\"\n",
    "    try:\n",
    "        result = requests.get(url)\n",
    "        if result.status_code != 200:\n",
    "            return None\n",
    "        c = result.content\n",
    "        soup = BeautifulSoup(c,\"lxml\")\n",
    "        down_link =  soup.find('li',{'class':'li dlsub'}).find('a').get('href')\n",
    "        return down_link\n",
    "    except:\n",
    "        return None"
   ]
  },
  {
   "cell_type": "code",
   "execution_count": 5,
   "metadata": {
    "collapsed": true
   },
   "outputs": [],
   "source": [
    "## download \n",
    "def download_zip(url,folder):\n",
    "    try:\n",
    "        result = requests.get(url)\n",
    "        fname = result.headers['Content-Disposition'].split('\"')[1]\n",
    "        res= result.content\n",
    "        with open( folder + fname, \"wb\" ) as f :\n",
    "                f.write( res )\n",
    "        return True\n",
    "    except:\n",
    "        return False"
   ]
  },
  {
   "cell_type": "markdown",
   "metadata": {},
   "source": [
    "### set up some global variables"
   ]
  },
  {
   "cell_type": "code",
   "execution_count": 6,
   "metadata": {
    "collapsed": true
   },
   "outputs": [],
   "source": [
    "## create doc_list to hold all links \n",
    "doc_list = {'title':[],'link':[],'status':[]}\n",
    "page_start = 12932\n",
    "page_end = page_num                              ## process 3, 6303 to 10000 pages\n",
    "folder = 'data/process4/data_download/'\n",
    "\n",
    "# create folder if folder does not exist\n",
    "if not os.path.exists(folder):\n",
    "    os.makedirs(folder)        \n"
   ]
  },
  {
   "cell_type": "code",
   "execution_count": 7,
   "metadata": {
    "collapsed": false
   },
   "outputs": [
    {
     "name": "stdout",
     "output_type": "stream",
     "text": [
      "12931 success\n",
      "12932 success\n",
      "12933 success\n",
      "12934 success\n",
      "12935 success\n",
      "12936 success\n",
      "12937 success\n",
      "12938 success\n",
      "12939 success\n",
      "12940 success\n",
      "12941 success\n",
      "12942 success\n",
      "12943 success\n",
      "12944 success\n",
      "12945 success\n",
      "12946 success\n",
      "12947 success\n",
      "12948 success\n",
      "12949 success\n",
      "12950 success\n",
      "12951 success\n",
      "12952 success\n",
      "12953 success\n",
      "12954 success\n",
      "12955 success\n",
      "12956 success\n",
      "12957 success\n",
      "12958 success\n",
      "12959 success\n",
      "12960 success\n",
      "12961 success\n",
      "12962 success\n",
      "12963 success\n",
      "12964 success\n",
      "12965 success\n",
      "12966 success\n",
      "12967 success\n",
      "12968 success\n",
      "12969 success\n",
      "12970 success\n",
      "12971 success\n",
      "12972 success\n",
      "12973 success\n",
      "12974 success\n",
      "12975 success\n",
      "12976 success\n",
      "12977 success\n",
      "12978 success\n",
      "12979 success\n",
      "12980 success\n",
      "12981 success\n",
      "12982 success\n",
      "12983 success\n",
      "12984 success\n",
      "12985 success\n",
      "12986 success\n",
      "12987 success\n",
      "12988 success\n",
      "12989 success\n",
      "12990 success\n",
      "12991 success\n",
      "1220\n"
     ]
    }
   ],
   "source": [
    "\n",
    "## loop through each page\n",
    "for p in range(page_start,page_end):\n",
    "    print(p-1, 'success')\n",
    "    try:\n",
    "        page_url = url + '&p=' + str(p)\n",
    "        result = requests.get(page_url)\n",
    "        #print(result.status_code)\n",
    "        c = result.content\n",
    "        soup = BeautifulSoup(c,\"lxml\")\n",
    "        docs = soup.find('div',{'class':'box clearfix'}).findAll('div',{'class':'persub clearfix'})\n",
    "\n",
    "        for doc in docs:\n",
    "\n",
    "            ## get title \n",
    "            link_tag = doc.find('h1',{'class':'title'}).find('a')\n",
    "            title = link_tag.getText().strip(' \\t\\n\\r@').replace('\\n','').replace('\\r',' ')\n",
    "            if title == '_':\n",
    "                continue\n",
    "            elif \"/\" in title:\n",
    "                 title = title.split(\"/\")[0]\n",
    "\n",
    "            link='http://www.zimuku.net'+link_tag.get('href')\n",
    "\n",
    "            ## get download link \n",
    "            down_link = get_down_link(link)\n",
    "\n",
    "            doc_list['title'].append(title)\n",
    "            doc_list['link'].append(down_link)\n",
    "        \n",
    "            ## download file \n",
    "            try:\n",
    "                response = download_zip(down_link,folder)\n",
    "                doc_list['status'].append(response)\n",
    "            except:\n",
    "                doc_list['status'].append(False)\n",
    "    except:\n",
    "        continue\n",
    "\n",
    "print(len(doc_list['link']))"
   ]
  },
  {
   "cell_type": "code",
   "execution_count": 8,
   "metadata": {
    "collapsed": false
   },
   "outputs": [
    {
     "data": {
      "text/html": [
       "<div>\n",
       "<table border=\"1\" class=\"dataframe\">\n",
       "  <thead>\n",
       "    <tr style=\"text-align: right;\">\n",
       "      <th></th>\n",
       "      <th>link</th>\n",
       "      <th>status</th>\n",
       "      <th>title</th>\n",
       "    </tr>\n",
       "  </thead>\n",
       "  <tbody>\n",
       "    <tr>\n",
       "      <th>0</th>\n",
       "      <td>http://shooter.zimuku.net/download/OTI4fEVyaW5...</td>\n",
       "      <td>True</td>\n",
       "      <td>Erin_Brockovich_EnCn_aNBc_Sub_Cslrj_JDJ_D9</td>\n",
       "    </tr>\n",
       "    <tr>\n",
       "      <th>1</th>\n",
       "      <td>http://shooter.zimuku.net/download/OTI3fGdob3N...</td>\n",
       "      <td>True</td>\n",
       "      <td>Ghost in Love</td>\n",
       "    </tr>\n",
       "    <tr>\n",
       "      <th>2</th>\n",
       "      <td>http://shooter.zimuku.net/download/OTI2fDAwN19...</td>\n",
       "      <td>True</td>\n",
       "      <td>007铁金刚大战特务飞龙</td>\n",
       "    </tr>\n",
       "    <tr>\n",
       "      <th>3</th>\n",
       "      <td>http://shooter.zimuku.net/download/OTMzfGEuY2x...</td>\n",
       "      <td>True</td>\n",
       "      <td>燃眉追击</td>\n",
       "    </tr>\n",
       "    <tr>\n",
       "      <th>4</th>\n",
       "      <td>http://shooter.zimuku.net/download/MzkwMXxhX2N...</td>\n",
       "      <td>True</td>\n",
       "      <td>a_clear_and_present_danger_1994_ac3_2cd</td>\n",
       "    </tr>\n",
       "    <tr>\n",
       "      <th>5</th>\n",
       "      <td>http://shooter.zimuku.net/download/OTIxfEJsYWN...</td>\n",
       "      <td>True</td>\n",
       "      <td>黑鹰计划</td>\n",
       "    </tr>\n",
       "  </tbody>\n",
       "</table>\n",
       "</div>"
      ],
      "text/plain": [
       "                                                link status  \\\n",
       "0  http://shooter.zimuku.net/download/OTI4fEVyaW5...   True   \n",
       "1  http://shooter.zimuku.net/download/OTI3fGdob3N...   True   \n",
       "2  http://shooter.zimuku.net/download/OTI2fDAwN19...   True   \n",
       "3  http://shooter.zimuku.net/download/OTMzfGEuY2x...   True   \n",
       "4  http://shooter.zimuku.net/download/MzkwMXxhX2N...   True   \n",
       "5  http://shooter.zimuku.net/download/OTIxfEJsYWN...   True   \n",
       "\n",
       "                                        title  \n",
       "0  Erin_Brockovich_EnCn_aNBc_Sub_Cslrj_JDJ_D9  \n",
       "1                               Ghost in Love  \n",
       "2                                007铁金刚大战特务飞龙  \n",
       "3                                        燃眉追击  \n",
       "4     a_clear_and_present_danger_1994_ac3_2cd  \n",
       "5                                        黑鹰计划  "
      ]
     },
     "execution_count": 8,
     "metadata": {},
     "output_type": "execute_result"
    }
   ],
   "source": [
    "## export links file \n",
    "df = pd.DataFrame(doc_list)\n",
    "df.to_csv('zimuku_links_v1.csv')\n",
    "df.ix[0:5]"
   ]
  },
  {
   "cell_type": "markdown",
   "metadata": {},
   "source": [
    "## Now start downloading"
   ]
  },
  {
   "cell_type": "code",
   "execution_count": null,
   "metadata": {
    "collapsed": false
   },
   "outputs": [],
   "source": []
  },
  {
   "cell_type": "code",
   "execution_count": null,
   "metadata": {
    "collapsed": false
   },
   "outputs": [],
   "source": []
  },
  {
   "cell_type": "code",
   "execution_count": null,
   "metadata": {
    "collapsed": false
   },
   "outputs": [],
   "source": []
  },
  {
   "cell_type": "code",
   "execution_count": null,
   "metadata": {
    "collapsed": true
   },
   "outputs": [],
   "source": []
  }
 ],
 "metadata": {
  "anaconda-cloud": {},
  "kernelspec": {
   "display_name": "Python [conda root]",
   "language": "python",
   "name": "conda-root-py"
  },
  "language_info": {
   "codemirror_mode": {
    "name": "ipython",
    "version": 3
   },
   "file_extension": ".py",
   "mimetype": "text/x-python",
   "name": "python",
   "nbconvert_exporter": "python",
   "pygments_lexer": "ipython3",
   "version": "3.5.2"
  }
 },
 "nbformat": 4,
 "nbformat_minor": 2
}
