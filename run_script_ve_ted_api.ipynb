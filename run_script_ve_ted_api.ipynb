{
 "cells": [
  {
   "cell_type": "markdown",
   "metadata": {},
   "source": [
    "### Use TED download api to download srt file"
   ]
  },
  {
   "cell_type": "code",
   "execution_count": 1,
   "metadata": {
    "collapsed": true
   },
   "outputs": [],
   "source": [
    "from bs4 import BeautifulSoup\n",
    "import requests\n",
    "import pandas as pd\n",
    "import os "
   ]
  },
  {
   "cell_type": "code",
   "execution_count": 2,
   "metadata": {
    "collapsed": true
   },
   "outputs": [],
   "source": [
    "df = pd.read_csv('data/Ted_links.csv')"
   ]
  },
  {
   "cell_type": "code",
   "execution_count": 3,
   "metadata": {
    "collapsed": true
   },
   "outputs": [],
   "source": [
    "def get_id(url):\n",
    "    #url = 'https://www.ted.com/talks/juan_enriquez_what_will_humans_look_like_in_100_years?language=zh-cn'\n",
    "    try:\n",
    "        result = requests.get(url)\n",
    "        #print(result.status_code)\n",
    "        c = result.content\n",
    "        soup = BeautifulSoup(c,\"lxml\")\n",
    "        doc_id= soup.find('meta',{'property':'al:ios:url'})['content']\n",
    "        id = doc_id.split('?')[0].split('/')[-1]\n",
    "        return id \n",
    "    except:\n",
    "        return None\n"
   ]
  },
  {
   "cell_type": "code",
   "execution_count": 4,
   "metadata": {
    "collapsed": true
   },
   "outputs": [],
   "source": [
    "def download_srt(url,fname):\n",
    "    #url = 'https://ted2srt.org/api/talks/2632/transcripts/download/srt?lang=en&lang=zh-cn'\n",
    "    try:\n",
    "        result = requests.get(url)\n",
    "        res= result.content\n",
    "        with open( fname, \"wb\" ) as f :\n",
    "              f.write( res )\n",
    "        return True\n",
    "    except:\n",
    "        return False"
   ]
  },
  {
   "cell_type": "code",
   "execution_count": null,
   "metadata": {
    "collapsed": false
   },
   "outputs": [
    {
     "name": "stdout",
     "output_type": "stream",
     "text": [
      "0 2645\n",
      "1 2638\n",
      "2 2591\n",
      "3 2632\n",
      "4 2620\n",
      "5 2624\n",
      "6 2621\n",
      "7 2617\n",
      "8 2616\n",
      "9 2614\n",
      "10 2611\n",
      "11 2609\n",
      "12 2608\n",
      "13 2605\n",
      "14 2602\n",
      "15 2598\n",
      "16 2597\n",
      "17 2576\n",
      "18 2599\n",
      "19 2593\n",
      "20 2592\n",
      "21 2589\n",
      "22 2588\n",
      "23 2567\n",
      "24 2586\n",
      "25 2585\n",
      "26 2587\n",
      "27 2584\n",
      "28 2532\n",
      "29 2582\n",
      "30 2554\n",
      "31 2580\n",
      "32 2579\n",
      "33 2577\n",
      "34 2575\n",
      "35 2574\n",
      "36 2572\n",
      "37 2578\n",
      "38 2571\n",
      "39 2573\n",
      "40 2569\n",
      "41 2565\n",
      "42 2563\n",
      "43 2568\n",
      "44 2561\n",
      "45 2566\n",
      "46 2550\n",
      "47 2562\n",
      "48 2545\n",
      "49 2560\n",
      "50 2559\n",
      "51 2549\n",
      "52 2548\n",
      "53 2558\n",
      "54 2553\n",
      "55 2556\n",
      "56 2540\n",
      "57 2552\n",
      "58 2546\n",
      "59 2551\n",
      "60 2542\n",
      "61 2529\n",
      "62 2539\n",
      "63 2543\n",
      "64 2541\n",
      "65 2538\n",
      "66 2536\n",
      "67 2537\n",
      "68 2534\n",
      "69 2531\n",
      "70 2530\n",
      "71 2526\n",
      "72 2528\n",
      "73 2535\n",
      "74 2525\n",
      "75 2527\n",
      "76 2502\n",
      "77 2524\n",
      "78 2522\n",
      "79 2523\n",
      "80 2520\n",
      "81 2519\n",
      "82 2518\n",
      "83 2517\n",
      "84 2516\n",
      "85 2515\n",
      "86 2514\n",
      "87 2512\n",
      "88 2511\n",
      "89 2508\n",
      "90 2507\n",
      "91 2506\n",
      "92 2505\n",
      "93 2504\n",
      "94 2501\n",
      "95 2498\n",
      "96 2496\n",
      "97 2495\n",
      "98 2494\n",
      "99 2500\n",
      "100 2499\n",
      "101 2497\n",
      "102 2493\n",
      "103 2492\n",
      "104 2490\n",
      "105 2489\n",
      "106 2488\n",
      "107 2487\n",
      "108 2486\n",
      "109 2484\n",
      "110 2483\n",
      "111 2473\n",
      "112 2482\n",
      "113 2485\n",
      "114 2480\n",
      "115 2479\n",
      "116 2460\n",
      "117 2467\n",
      "118 2476\n",
      "119 2477\n",
      "120 2464\n",
      "121 2478\n",
      "122 2468\n",
      "123 2466\n",
      "124 2475\n",
      "125 2465\n",
      "126 2474\n",
      "127 2470\n",
      "128 2471\n",
      "129 2463\n",
      "130 2461\n",
      "131 2462\n",
      "132 2455\n",
      "133 2469\n",
      "134 2453\n",
      "135 2459\n",
      "136 2456\n",
      "137 2457\n",
      "138 2458\n",
      "139 2447\n",
      "140 2451\n",
      "141 2452\n",
      "142 2454\n",
      "143 2390\n",
      "144 2432\n",
      "145 2448\n",
      "146 2443\n",
      "147 2449\n",
      "148 2436\n",
      "149 2437\n",
      "150 2434\n",
      "151 2433\n",
      "152 2445\n",
      "153 2431\n",
      "154 2442\n",
      "155 2441\n",
      "156 2440\n",
      "157 2439\n",
      "158 2438\n",
      "159 2435\n",
      "160 2429\n",
      "161 2428\n",
      "162 2427\n",
      "163 2430\n",
      "164 2410\n",
      "165 2423\n",
      "166 2426\n",
      "167 2425\n",
      "168 2420\n",
      "169 2417\n",
      "170 2418\n",
      "171 2419\n",
      "172 2416\n",
      "173 2414\n"
     ]
    }
   ],
   "source": [
    "for index,row in df.iterrows():\n",
    "    try:\n",
    "        link = row['link'].split('?')[0]\n",
    "        response = get_id(link)\n",
    "        df.loc[index,'id']= response\n",
    "        print(index,response)\n",
    "    except:\n",
    "        df.loc[index,'id'] = None"
   ]
  },
  {
   "cell_type": "code",
   "execution_count": 15,
   "metadata": {
    "collapsed": false
   },
   "outputs": [
    {
     "data": {
      "text/plain": [
       "'https://www.ted.com/talks/paolo_cardini_forget_multitasking_try_monotasking?language=zh-cn'"
      ]
     },
     "execution_count": 15,
     "metadata": {},
     "output_type": "execute_result"
    }
   ],
   "source": [
    "df.loc[907,'link']"
   ]
  },
  {
   "cell_type": "code",
   "execution_count": null,
   "metadata": {
    "collapsed": false
   },
   "outputs": [],
   "source": [
    "df.to_csv('data/Ted_links_id.csv')"
   ]
  },
  {
   "cell_type": "code",
   "execution_count": null,
   "metadata": {
    "collapsed": false,
    "scrolled": true
   },
   "outputs": [],
   "source": [
    "#df=df.ix[:5]\n",
    "for index,row in df.iterrows():\n",
    "    try:\n",
    "        link ='https://ted2srt.org/api/talks/' + row['id'] +'/transcripts/download/srt?lang=en&lang=zh-cn'\n",
    "        fname = 'data/' + row['title'] + '.srt'\n",
    "        response = download_srt(link,fname)\n",
    "        df.loc[index,'status']= response\n",
    "        print(index,response)\n",
    "    except:\n",
    "        df.loc[index,'status']= False"
   ]
  },
  {
   "cell_type": "code",
   "execution_count": null,
   "metadata": {
    "collapsed": false,
    "scrolled": true
   },
   "outputs": [],
   "source": []
  },
  {
   "cell_type": "code",
   "execution_count": null,
   "metadata": {
    "collapsed": false
   },
   "outputs": [],
   "source": []
  },
  {
   "cell_type": "code",
   "execution_count": null,
   "metadata": {
    "collapsed": true
   },
   "outputs": [],
   "source": []
  }
 ],
 "metadata": {
  "anaconda-cloud": {},
  "kernelspec": {
   "display_name": "Python [conda root]",
   "language": "python",
   "name": "conda-root-py"
  },
  "language_info": {
   "codemirror_mode": {
    "name": "ipython",
    "version": 3
   },
   "file_extension": ".py",
   "mimetype": "text/x-python",
   "name": "python",
   "nbconvert_exporter": "python",
   "pygments_lexer": "ipython3",
   "version": "3.5.2"
  }
 },
 "nbformat": 4,
 "nbformat_minor": 1
}
