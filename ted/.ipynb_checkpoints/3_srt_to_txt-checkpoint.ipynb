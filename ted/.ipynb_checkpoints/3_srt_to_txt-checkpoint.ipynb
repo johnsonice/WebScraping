{
 "cells": [
  {
   "cell_type": "markdown",
   "metadata": {},
   "source": [
    "### srt to txt"
   ]
  },
  {
   "cell_type": "code",
   "execution_count": 1,
   "metadata": {
    "collapsed": false
   },
   "outputs": [],
   "source": [
    "import pysrt\n",
    "import os \n",
    "import string\n",
    "from os import path\n",
    "import enchant\n",
    "from guess_language import guess_language\n",
    "from itertools import compress\n",
    "import time \n",
    "from datetime import datetime\n",
    "import pandas as pd"
   ]
  },
  {
   "cell_type": "markdown",
   "metadata": {},
   "source": [
    "## Define some functions first "
   ]
  },
  {
   "cell_type": "code",
   "execution_count": 2,
   "metadata": {
    "collapsed": true
   },
   "outputs": [],
   "source": [
    "##############################\n",
    "#### define some functions ###\n",
    "##############################\n",
    "def check(f):\n",
    "    filename, file_extension = os.path.splitext(f)\n",
    "    if file_extension == '.srt':\n",
    "        return True\n",
    "    else:\n",
    "        return False\n",
    "\n",
    "def check_alignment(ele):\n",
    "    t2 = ele.text.split('\\n')[0]  ## get the first element, see if it is a time stamp\n",
    "    if '-->' in t2:\n",
    "        t1_end = ele.end.seconds\n",
    "        start,end = t2.split(' --> ')\n",
    "        end = time.strptime(end,'%H:%M:%S,%f')\n",
    "        t2_end = end.tm_sec\n",
    "        #print(t1_end,\" -- \",t2_end)\n",
    "        if abs(t1_end - t2_end) > 3:\n",
    "            return False\n",
    "        else:\n",
    "            return True\n",
    "    else:\n",
    "        return True\n",
    "    \n",
    "def get_text_line(ele):\n",
    "    if check_alignment(ele) is False:\n",
    "        return False\n",
    "    text_list = ele.text.split('\\n')\n",
    "    languages = [guess_language(l) for l in text_list]\n",
    "    en_index = [l=='en' for l in languages]\n",
    "    zh_index = [l=='zh' for l in languages]\n",
    "    en_lines = list(compress(text_list,en_index))\n",
    "    zh_lines = list(compress(text_list,zh_index))\n",
    "    if len(en_lines)==0 or len(zh_lines)==0:\n",
    "        return None\n",
    "    en_text = ' '.join(en_lines)\n",
    "    zh_text = ' '.join(zh_lines)\n",
    "    text_line = en_text + ' | ' + zh_text\n",
    "    return text_line\n",
    "\n",
    "def get_doc_txt(subs):\n",
    "    doc = []\n",
    "    for ele in subs:\n",
    "        clean_text = get_text_line(ele)\n",
    "        if clean_text == False:\n",
    "            return None\n",
    "        elif clean_text is not None:\n",
    "            doc.append(clean_text)\n",
    "    return doc \n",
    "\n",
    "def check_last_line(doc):\n",
    "    en,zh = doc[-1].split('|')\n",
    "    return len(en)/len(zh)"
   ]
  },
  {
   "cell_type": "code",
   "execution_count": 3,
   "metadata": {
    "collapsed": true
   },
   "outputs": [],
   "source": [
    "data_folder = 'data/cn/data/'\n",
    "result_folder = 'data/cn/result_folder/'"
   ]
  },
  {
   "cell_type": "code",
   "execution_count": 4,
   "metadata": {
    "collapsed": false
   },
   "outputs": [
    {
     "data": {
      "text/plain": [
       "2210"
      ]
     },
     "execution_count": 4,
     "metadata": {},
     "output_type": "execute_result"
    }
   ],
   "source": [
    "## check if extension is .srt\n",
    "srts = [data_folder + f for f in os.listdir(data_folder) if check(f)]\n",
    "len(srts)"
   ]
  },
  {
   "cell_type": "code",
   "execution_count": 5,
   "metadata": {
    "collapsed": false
   },
   "outputs": [
    {
     "data": {
      "text/plain": [
       "'data/cn/data/乔治·帕潘德里欧: 设想一个跨国界的欧洲民主.srt'"
      ]
     },
     "execution_count": 5,
     "metadata": {},
     "output_type": "execute_result"
    }
   ],
   "source": [
    "srts[0]"
   ]
  },
  {
   "cell_type": "code",
   "execution_count": 6,
   "metadata": {
    "collapsed": false
   },
   "outputs": [
    {
     "name": "stdout",
     "output_type": "stream",
     "text": [
      "2210 1\n"
     ]
    },
    {
     "ename": "NameError",
     "evalue": "name 'fname' is not defined",
     "output_type": "error",
     "traceback": [
      "\u001b[0;31m---------------------------------------------------------------------------\u001b[0m",
      "\u001b[0;31mNameError\u001b[0m                                 Traceback (most recent call last)",
      "\u001b[0;32m<ipython-input-6-a5cf3e9e08db>\u001b[0m in \u001b[0;36m<module>\u001b[0;34m()\u001b[0m\n\u001b[1;32m      6\u001b[0m     \u001b[0mdoc\u001b[0m \u001b[0;34m=\u001b[0m \u001b[0mget_doc_txt\u001b[0m\u001b[0;34m(\u001b[0m\u001b[0msubs\u001b[0m\u001b[0;34m)\u001b[0m\u001b[0;34m\u001b[0m\u001b[0m\n\u001b[1;32m      7\u001b[0m \u001b[0;34m\u001b[0m\u001b[0m\n\u001b[0;32m----> 8\u001b[0;31m     \u001b[0mdoc_list\u001b[0m\u001b[0;34m[\u001b[0m\u001b[0;34m'title'\u001b[0m\u001b[0;34m]\u001b[0m\u001b[0;34m.\u001b[0m\u001b[0mappend\u001b[0m\u001b[0;34m(\u001b[0m\u001b[0mfname\u001b[0m\u001b[0;34m)\u001b[0m\u001b[0;34m\u001b[0m\u001b[0m\n\u001b[0m\u001b[1;32m      9\u001b[0m     \u001b[0mfname\u001b[0m \u001b[0;34m=\u001b[0m \u001b[0msrt\u001b[0m\u001b[0;34m.\u001b[0m\u001b[0msplit\u001b[0m\u001b[0;34m(\u001b[0m\u001b[0;34m'/'\u001b[0m\u001b[0;34m)\u001b[0m\u001b[0;34m[\u001b[0m\u001b[0;34m-\u001b[0m\u001b[0;36m1\u001b[0m\u001b[0;34m]\u001b[0m\u001b[0;34m.\u001b[0m\u001b[0msplit\u001b[0m\u001b[0;34m(\u001b[0m\u001b[0;34m'.'\u001b[0m\u001b[0;34m)\u001b[0m\u001b[0;34m[\u001b[0m\u001b[0;34m-\u001b[0m\u001b[0;36m2\u001b[0m\u001b[0;34m]\u001b[0m\u001b[0;34m+\u001b[0m \u001b[0;34m'.txt'\u001b[0m\u001b[0;34m\u001b[0m\u001b[0m\n\u001b[1;32m     10\u001b[0m \u001b[0;34m\u001b[0m\u001b[0m\n",
      "\u001b[0;31mNameError\u001b[0m: name 'fname' is not defined"
     ]
    }
   ],
   "source": [
    "doc_list ={'title':[],'last':[],'status':[]}\n",
    "\n",
    "for index,srt in enumerate(srts):\n",
    "    print (len(srts),index+1)\n",
    "    subs = pysrt.open(srt)\n",
    "    doc = get_doc_txt(subs)\n",
    "    fname = srt.split('/')[-1].split('.')[-2]+ '.txt'\n",
    "    doc_list['title'].append(fname)\n",
    "    if doc is None:\n",
    "        doc_list['last'].append('Failed')\n",
    "        doc_list['status'].append('Failed')\n",
    "    else:\n",
    "        with open(result_folder + fname, mode='wt', encoding='utf-8') as myfile:\n",
    "            myfile.write('\\n'.join(doc))\n",
    "        doc_list['last'].append(check_last_line(doc))\n",
    "        doc_list['status'].append('Success')"
   ]
  },
  {
   "cell_type": "code",
   "execution_count": null,
   "metadata": {
    "collapsed": false
   },
   "outputs": [],
   "source": [
    "## export log file to csv\n",
    "df = pd.DataFrame(doc_list)\n",
    "df.to_csv('ted_txt.csv')"
   ]
  },
  {
   "cell_type": "code",
   "execution_count": null,
   "metadata": {
    "collapsed": false
   },
   "outputs": [],
   "source": [
    "df_problem=df[df.status!='Failed']\n",
    "df_problem['last'] = df_problem['last'].astype(float)\n",
    "df_problem[(df_problem['last']>5) | (df_problem['last']<1)]"
   ]
  },
  {
   "cell_type": "code",
   "execution_count": null,
   "metadata": {
    "collapsed": true
   },
   "outputs": [],
   "source": [
    "######################################################\n",
    "### no longer use this, used guess_language instead###\n",
    "### this is for future reference                   ###\n",
    "######################################################\n",
    "\n",
    "# ### ehck each line, see if they are time header, or english or chinese\n",
    "# def is_english(word):\n",
    "#     try:\n",
    "#         return word.encode('ascii').isalpha()\n",
    "#         en = [e for e in word if word.encode('ascii').isalpha()]\n",
    "#     except:\n",
    "#         return False\n",
    "    \n",
    "# def is_chinese(word):\n",
    "#     ch = [c for c in word if u'\\u4e00' <= c <= u'\\u9fff']\n",
    "#     if len(ch) > 0:\n",
    "#         return True\n",
    "#     else:\n",
    "#         return False\n",
    "\n",
    "# def check_language(line):\n",
    "#     if '-->' in line:\n",
    "#         return 'tm'  ## time header\n",
    "#     elif is_english(line):\n",
    "#         return 'en'\n",
    "#     elif is_chinese(line):\n",
    "#         return 'cn'\n",
    "#     else:\n",
    "#         return None"
   ]
  }
 ],
 "metadata": {
  "anaconda-cloud": {},
  "kernelspec": {
   "display_name": "Python [conda root]",
   "language": "python",
   "name": "conda-root-py"
  },
  "language_info": {
   "codemirror_mode": {
    "name": "ipython",
    "version": 3
   },
   "file_extension": ".py",
   "mimetype": "text/x-python",
   "name": "python",
   "nbconvert_exporter": "python",
   "pygments_lexer": "ipython3",
   "version": "3.5.2"
  }
 },
 "nbformat": 4,
 "nbformat_minor": 2
}
