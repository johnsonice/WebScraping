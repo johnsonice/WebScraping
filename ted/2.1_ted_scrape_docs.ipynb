{
 "cells": [
  {
   "cell_type": "markdown",
   "metadata": {},
   "source": [
    "#### 2 TED read individual transcrapt "
   ]
  },
  {
   "cell_type": "code",
   "execution_count": 6,
   "metadata": {
    "collapsed": true
   },
   "outputs": [],
   "source": [
    "from bs4 import BeautifulSoup\n",
    "import requests\n",
    "import pandas as pd\n",
    "import os \n",
    "import json \n",
    "\n",
    "#os.getcwd()\n",
    "#os.chdir('/home/johnsonice/Desktop/temp/webScrap')"
   ]
  },
  {
   "cell_type": "code",
   "execution_count": 7,
   "metadata": {
    "collapsed": true
   },
   "outputs": [],
   "source": [
    "def retrieve_doc(url,lang):\n",
    "    ## send request \n",
    "    result = requests.get(url)\n",
    "    if result.status_code == 200:       ## check if url successfully loaded\n",
    "        #print('200, Request successful')\n",
    "    else:\n",
    "        print(ValueError('Request Response is not 200,check url.'))\n",
    "\n",
    "    ## scrap data \n",
    "    c = result.content\n",
    "    soup = BeautifulSoup(c,\"lxml\")\n",
    "    doc={}\n",
    "    doc_mata= soup.find('div', { 'class' : 'media__message'})\n",
    "    doc['author'] = doc_mata.find('h4',{'class':'h12 talk-link__speaker'}).getText().replace('\\n','')\n",
    "    doc['title'] = doc_mata.find('h4',{'class':'h9'}).getText().replace('\\n','')\n",
    "    doc['date'] = doc_mata.find('div').find('span').find('span').getText().replace('\\n','')\n",
    "    \n",
    "    data = {'time':[],'text_'+lang:[]}\n",
    "    rows = soup.find('div',{'class':'talk-article__body'}).findAll('p')\n",
    "    for row in rows:    \n",
    "        #get time stamp\n",
    "        time = row.find('data').getText()\n",
    "        time = time.strip(' \\t\\n\\r')       ## trim space and line break\n",
    "        # get text \n",
    "        para = row.find('span').findAll('span')\n",
    "        text = ''\n",
    "        for p in para:\n",
    "            s = p.getText()\n",
    "            s = s.strip(' \\t\\n\\r').replace('\\n',' ')\n",
    "            text += s\n",
    "        \n",
    "        data['time'].append(time)\n",
    "        data['text_'+lang].append(text)\n",
    "    #    print(time)\n",
    "    #    print(text)\n",
    "    doc['data']= data\n",
    "    \n",
    "    ## return data object \n",
    "    return doc"
   ]
  },
  {
   "cell_type": "code",
   "execution_count": 8,
   "metadata": {
    "collapsed": true
   },
   "outputs": [],
   "source": [
    "def check(raw_url,language):\n",
    "    result_cn = requests.get(raw_url+language['chinese'])\n",
    "    result_en = requests.get(raw_url+language['english'])\n",
    "    \n",
    "    if result_cn.status_code == 200 and result_en.status_code == 200:\n",
    "        return True\n",
    "    else:\n",
    "        return False "
   ]
  },
  {
   "cell_type": "code",
   "execution_count": 9,
   "metadata": {
    "collapsed": false
   },
   "outputs": [],
   "source": [
    "def scrap(raw_url,folder):\n",
    "\n",
    "    language = {'chinese':'/transcript?language=zh-cn','english':'/transcript?language=en'}\n",
    "    #raw_url = \"https://www.ted.com/talks/kevin_kelly_how_ai_can_bring_on_a_second_industrial_revolution\"\n",
    "\n",
    "    available = check(raw_url,language)\n",
    "\n",
    "    if available == True:\n",
    "        english = retrieve_doc(raw_url+language['english'],'en')\n",
    "        chinese = retrieve_doc(raw_url+language['chinese'],'cn')\n",
    "\n",
    "        ## merge english and chinese, and export it \n",
    "        fname = folder + chinese['title'] + '.txt'\n",
    "        df_en = pd.DataFrame(english['data'])\n",
    "        df_cn = pd.DataFrame(chinese['data'])\n",
    "        df_merge = pd.concat([df_en['text_en'],df_cn['text_cn']],axis=1)\n",
    "        df_merge.to_csv(fname,sep='|')\n",
    "        return True\n",
    "    else:\n",
    "        print('translation is not available')\n",
    "        return False\n",
    "\n"
   ]
  },
  {
   "cell_type": "code",
   "execution_count": null,
   "metadata": {
    "collapsed": true
   },
   "outputs": [],
   "source": [
    "#==============================================================================\n",
    "#     # load from file:\n",
    "# with open('my_file.json', 'r') as f:\n",
    "#     try:\n",
    "#         data2 = json.load(f)\n",
    "#         print(data2)\n",
    "#     # if the file is empty the ValueError will be thrown\n",
    "#     except ValueError:\n",
    "#         data2 = {}\n",
    "#=============================================================================="
   ]
  }
 ],
 "metadata": {
  "anaconda-cloud": {},
  "kernelspec": {
   "display_name": "Python [conda root]",
   "language": "python",
   "name": "conda-root-py"
  },
  "language_info": {
   "codemirror_mode": {
    "name": "ipython",
    "version": 3
   },
   "file_extension": ".py",
   "mimetype": "text/x-python",
   "name": "python",
   "nbconvert_exporter": "python",
   "pygments_lexer": "ipython3",
   "version": "3.5.2"
  }
 },
 "nbformat": 4,
 "nbformat_minor": 1
}
