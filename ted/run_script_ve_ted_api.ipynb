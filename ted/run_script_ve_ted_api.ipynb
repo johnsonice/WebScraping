{
 "cells": [
  {
   "cell_type": "markdown",
   "metadata": {},
   "source": [
    "### Use TED download api to download srt file"
   ]
  },
  {
   "cell_type": "code",
   "execution_count": 1,
   "metadata": {
    "collapsed": true
   },
   "outputs": [],
   "source": [
    "from bs4 import BeautifulSoup\n",
    "import requests\n",
    "import pandas as pd\n",
    "import os "
   ]
  },
  {
   "cell_type": "code",
   "execution_count": 2,
   "metadata": {
    "collapsed": true
   },
   "outputs": [],
   "source": [
    "df = pd.read_csv('Ted_links.csv')"
   ]
  },
  {
   "cell_type": "code",
   "execution_count": 3,
   "metadata": {
    "collapsed": true
   },
   "outputs": [],
   "source": [
    "def get_id(url):\n",
    "    #url = 'https://www.ted.com/talks/juan_enriquez_what_will_humans_look_like_in_100_years?language=zh-cn'\n",
    "    try:\n",
    "        result = requests.get(url)\n",
    "        #print(result.status_code)\n",
    "        c = result.content\n",
    "        soup = BeautifulSoup(c,\"lxml\")\n",
    "        doc_id= soup.find('meta',{'property':'al:ios:url'})['content']\n",
    "        id = doc_id.split('?')[0].split('/')[-1]\n",
    "        return id \n",
    "    except:\n",
    "        return None\n"
   ]
  },
  {
   "cell_type": "code",
   "execution_count": null,
   "metadata": {
    "collapsed": true
   },
   "outputs": [],
   "source": [
    "def download_srt(url,fname):\n",
    "    #url = 'https://ted2srt.org/api/talks/2632/transcripts/download/srt?lang=en&lang=zh-cn'\n",
    "    try:\n",
    "        result = requests.get(url)\n",
    "        res= result.content\n",
    "        with open( fname, \"wb\" ) as f :\n",
    "              f.write( res )\n",
    "        return True\n",
    "    except:\n",
    "        return False"
   ]
  },
  {
   "cell_type": "code",
   "execution_count": null,
   "metadata": {
    "collapsed": false
   },
   "outputs": [
    {
     "name": "stdout",
     "output_type": "stream",
     "text": [
      "0 2607\n",
      "1 2598\n",
      "2 2593\n",
      "3 2592\n",
      "4 2544\n",
      "5 2588\n",
      "6 2567\n",
      "7 2570\n",
      "8 2584\n",
      "9 2583\n",
      "10 2555\n",
      "11 2581\n",
      "12 2580\n",
      "13 2579\n",
      "14 2577\n",
      "15 2575\n",
      "16 2578\n",
      "17 2571\n",
      "18 2573\n",
      "19 2569\n",
      "20 2563\n",
      "21 2568\n",
      "22 2562\n",
      "23 2545\n",
      "24 2560\n",
      "25 2549\n",
      "26 2548\n",
      "27 2558\n",
      "28 2557\n",
      "29 2553\n",
      "30 2540\n",
      "31 2552\n",
      "32 2546\n",
      "33 2542\n",
      "34 2547\n",
      "35 2529\n",
      "36 2539\n",
      "37 2543\n",
      "38 2541\n",
      "39 2538\n",
      "40 2537\n",
      "41 2534\n",
      "42 2530\n",
      "43 2526\n",
      "44 2528\n",
      "45 2535\n",
      "46 2525\n",
      "47 2527\n",
      "48 2502\n",
      "49 2524\n",
      "50 2522\n",
      "51 2521\n",
      "52 2523\n",
      "53 2520\n",
      "54 2519\n",
      "55 2518\n",
      "56 2517\n",
      "57 2516\n",
      "58 2514\n",
      "59 2512\n",
      "60 2511\n",
      "61 2510\n",
      "62 2508\n",
      "63 2507\n",
      "64 2506\n",
      "65 2505\n",
      "66 2504\n",
      "67 2501\n",
      "68 2498\n",
      "69 2496\n",
      "70 2495\n",
      "71 2494\n",
      "72 2500\n",
      "73 2499\n",
      "74 2497\n",
      "75 2493\n",
      "76 2492\n",
      "77 2490\n",
      "78 2489\n"
     ]
    }
   ],
   "source": [
    "for index,row in df.iterrows():\n",
    "    try:\n",
    "        link = row['link'].split('?')[0]\n",
    "        response = get_id(link)\n",
    "        df.loc[index,'id']= response\n",
    "        print(index,response)\n",
    "    except:\n",
    "        df.loc[index,'id'] = None"
   ]
  },
  {
   "cell_type": "code",
   "execution_count": null,
   "metadata": {
    "collapsed": false
   },
   "outputs": [],
   "source": [
    "df.loc[2208,'link']"
   ]
  },
  {
   "cell_type": "code",
   "execution_count": null,
   "metadata": {
    "collapsed": false
   },
   "outputs": [],
   "source": [
    "df.to_csv('Ted_links_id.csv')"
   ]
  },
  {
   "cell_type": "code",
   "execution_count": null,
   "metadata": {
    "collapsed": false,
    "scrolled": true
   },
   "outputs": [],
   "source": [
    "#df=df.ix[:5]\n",
    "for index,row in df.iterrows():\n",
    "    try:\n",
    "        link ='https://ted2srt.org/api/talks/' + row['id'] +'/transcripts/download/srt?lang=en&lang=zh-tw'\n",
    "        fname = 'data/' + row['title'] + '.srt'\n",
    "        response = download_srt(link,fname)\n",
    "        df.loc[index,'status']= response\n",
    "        print(index,response)\n",
    "    except:\n",
    "        df.loc[index,'status']= False"
   ]
  },
  {
   "cell_type": "code",
   "execution_count": null,
   "metadata": {
    "collapsed": false,
    "scrolled": true
   },
   "outputs": [],
   "source": []
  },
  {
   "cell_type": "code",
   "execution_count": null,
   "metadata": {
    "collapsed": false
   },
   "outputs": [],
   "source": []
  },
  {
   "cell_type": "code",
   "execution_count": null,
   "metadata": {
    "collapsed": true
   },
   "outputs": [],
   "source": []
  }
 ],
 "metadata": {
  "anaconda-cloud": {},
  "kernelspec": {
   "display_name": "Python [conda root]",
   "language": "python",
   "name": "conda-root-py"
  },
  "language_info": {
   "codemirror_mode": {
    "name": "ipython",
    "version": 3
   },
   "file_extension": ".py",
   "mimetype": "text/x-python",
   "name": "python",
   "nbconvert_exporter": "python",
   "pygments_lexer": "ipython3",
   "version": "3.5.2"
  }
 },
 "nbformat": 4,
 "nbformat_minor": 1
}
