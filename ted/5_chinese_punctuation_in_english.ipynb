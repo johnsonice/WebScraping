{
 "cells": [
  {
   "cell_type": "code",
   "execution_count": 277,
   "metadata": {
    "collapsed": false
   },
   "outputs": [],
   "source": [
    "import os \n",
    "from os import path\n",
    "from itertools import compress\n",
    "import pandas as pd\n",
    "import re\n",
    "from itertools import compress"
   ]
  },
  {
   "cell_type": "code",
   "execution_count": 303,
   "metadata": {
    "collapsed": false
   },
   "outputs": [],
   "source": [
    "##############################\n",
    "#### define some functions ###\n",
    "##############################\n",
    "def check(f):\n",
    "    filename, file_extension = os.path.splitext(f)\n",
    "    if file_extension == '.txt':\n",
    "        return True\n",
    "    else:\n",
    "        return False\n",
    "def check_chinese(line_str):\n",
    "    cn = re.findall(r'[\\u4e00-\\u9fff]+',line_str)\n",
    "    if len(cn)>0:\n",
    "        return True\n",
    "    else:\n",
    "        return False\n",
    "    \n",
    "def retrieve_punc(line_str):\n",
    "    #line_str = \"想做/ 兼_职/学生_/ 的 、加,我Q：  1 5.  8 0. ！“”？  8 6 。0.  2。 3  《    有,惊,喜,哦\"  \n",
    "    reg_filter1=re.compile(r'[\\uff00-\\uffef]+')\n",
    "    reg_filter2 = re.compile(r'[￥·×—‘’“”…、。《》『』【】！（），：；？]+|[\\u4e00-\\u9fff]+')\n",
    "    r1 = reg_filter1.findall(line_str)\n",
    "    r2 = reg_filter2.findall(line_str)\n",
    "    if len(r1)+len(r2)==0:\n",
    "        return False \n",
    "    else:\n",
    "        return True\n",
    "\n",
    "def replace_punc(line_str):\n",
    "    mapping=[('—','-'),('，',','),(\"‘\",\"'\"),(\"’\",\"'\"),('、',','),('“','\"'),('”','\"'),('。','.'),('（','('),('）',')'),('：',':'),('；',';'),('？','?'),('…','...'),('《',''),('》','')]\n",
    "    for k,v in mapping:\n",
    "        line_str=line_str.replace(k,v)\n",
    "    #line_str = re.sub(r'[\\u4e00-\\u9fff]+','',line_str)\n",
    "    return line_str\n",
    "\n",
    "def replace_special(line_str):\n",
    "    line_str = re.sub('[『』【】「」♫．]','',line_str)\n",
    "    return line_str "
   ]
  },
  {
   "cell_type": "code",
   "execution_count": 304,
   "metadata": {
    "collapsed": true
   },
   "outputs": [],
   "source": [
    "data_folder ='TED_Talks_upload/cn_tw/en/'   ## only run on english files "
   ]
  },
  {
   "cell_type": "code",
   "execution_count": 305,
   "metadata": {
    "collapsed": false
   },
   "outputs": [
    {
     "data": {
      "text/plain": [
       "1567"
      ]
     },
     "execution_count": 305,
     "metadata": {},
     "output_type": "execute_result"
    }
   ],
   "source": [
    "## check if extension is .srt\n",
    "txts = [data_folder + f for f in os.listdir(data_folder) if check(f)]\n",
    "len(txts)"
   ]
  },
  {
   "cell_type": "code",
   "execution_count": 306,
   "metadata": {
    "collapsed": false
   },
   "outputs": [],
   "source": [
    "## replace all special charactors \n",
    "for index,test in enumerate(txts):\n",
    "    with open(test, 'r') as content_file:\n",
    "        myFile = content_file.read()\n",
    "        myFile_replace=replace_special(myFile)\n",
    "    with open(test, mode='wt', encoding='utf-8') as myfile2:\n",
    "        myfile2.write(myFile_replace)  "
   ]
  },
  {
   "cell_type": "code",
   "execution_count": 301,
   "metadata": {
    "collapsed": false
   },
   "outputs": [],
   "source": [
    "doc_list ={'title':[],'status':[]}\n",
    "txt_list = txts\n",
    "for index,txt in enumerate(txt_list):\n",
    "    #print (len(txt_list),index+1)\n",
    "    with open(txt, 'r') as f:\n",
    "        myFile = [line.strip() for line in f]\n",
    "    myFile = [x for x in myFile if x != '']\n",
    "    myFile=[retrieve_punc(x) for x in myFile]\n",
    "    if sum(myFile) > 0 :\n",
    "        doc_list['title'].append(txt)"
   ]
  },
  {
   "cell_type": "code",
   "execution_count": 302,
   "metadata": {
    "collapsed": false
   },
   "outputs": [
    {
     "data": {
      "text/plain": [
       "0"
      ]
     },
     "execution_count": 302,
     "metadata": {},
     "output_type": "execute_result"
    }
   ],
   "source": [
    "len(doc_list['title'])"
   ]
  },
  {
   "cell_type": "code",
   "execution_count": 299,
   "metadata": {
    "collapsed": false
   },
   "outputs": [],
   "source": [
    "tests = doc_list['title']\n",
    "for index,test in enumerate(tests):\n",
    "    #print(index)\n",
    "    with open(test, 'r') as content_file:\n",
    "        myFile = content_file.read()\n",
    "        myFile_replace=replace_punc(myFile)\n",
    "    with open(test, mode='wt', encoding='utf-8') as myfile2:\n",
    "        myfile2.write(myFile_replace)  "
   ]
  },
  {
   "cell_type": "code",
   "execution_count": 300,
   "metadata": {
    "collapsed": false
   },
   "outputs": [
    {
     "data": {
      "text/plain": [
       "[]"
      ]
     },
     "execution_count": 300,
     "metadata": {},
     "output_type": "execute_result"
    }
   ],
   "source": [
    "\n",
    "test = doc_list['title'][0]\n",
    "with open(test, 'r') as f:\n",
    "    myFile = [line.strip() for line in f]\n",
    "myFile = [x for x in myFile if x != '']\n",
    "punc=[retrieve_punc(x) for x in myFile]\n",
    "list(compress(myFile,punc))"
   ]
  },
  {
   "cell_type": "code",
   "execution_count": null,
   "metadata": {
    "collapsed": true
   },
   "outputs": [],
   "source": []
  }
 ],
 "metadata": {
  "anaconda-cloud": {},
  "kernelspec": {
   "display_name": "Python [conda root]",
   "language": "python",
   "name": "conda-root-py"
  },
  "language_info": {
   "codemirror_mode": {
    "name": "ipython",
    "version": 3
   },
   "file_extension": ".py",
   "mimetype": "text/x-python",
   "name": "python",
   "nbconvert_exporter": "python",
   "pygments_lexer": "ipython3",
   "version": "3.5.2"
  }
 },
 "nbformat": 4,
 "nbformat_minor": 1
}
