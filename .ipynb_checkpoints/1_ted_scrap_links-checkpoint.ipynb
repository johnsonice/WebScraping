{
 "cells": [
  {
   "cell_type": "markdown",
   "metadata": {},
   "source": [
    "### Scrape links from TED"
   ]
  },
  {
   "cell_type": "code",
   "execution_count": 1,
   "metadata": {
    "collapsed": false
   },
   "outputs": [],
   "source": [
    "from bs4 import BeautifulSoup\n",
    "import requests\n",
    "import pandas as pd\n",
    "import os \n",
    "import json "
   ]
  },
  {
   "cell_type": "code",
   "execution_count": 2,
   "metadata": {
    "collapsed": false
   },
   "outputs": [
    {
     "name": "stdout",
     "output_type": "stream",
     "text": [
      "200\n"
     ]
    }
   ],
   "source": [
    "## send the request\n",
    "#url = \"https://www.ted.com/talks?language=zh-cn\"\n",
    "## chinese taiwan\n",
    "url = \"https://www.ted.com/talks?language=zh-tw\"\n",
    "result = requests.get(url)\n",
    "print(result.status_code)"
   ]
  },
  {
   "cell_type": "code",
   "execution_count": 3,
   "metadata": {
    "collapsed": false
   },
   "outputs": [
    {
     "name": "stdout",
     "output_type": "stream",
     "text": [
      "61\n"
     ]
    }
   ],
   "source": [
    "## get page number\n",
    "c = result.content\n",
    "soup = BeautifulSoup(c,\"lxml\")\n",
    "pages =  soup.find('div',{'class':'results__pagination'}).find('div')\n",
    "page_num = pages.findAll('a')[-2].getText()\n",
    "page_num = int(page_num)\n",
    "print(page_num)"
   ]
  },
  {
   "cell_type": "code",
   "execution_count": 4,
   "metadata": {
    "collapsed": false
   },
   "outputs": [
    {
     "name": "stdout",
     "output_type": "stream",
     "text": [
      "2183\n"
     ]
    }
   ],
   "source": [
    "## create doc_list to hold all links \n",
    "doc_list = {'title':[],'author':[],'date':[],'link':[]}\n",
    "\n",
    "## loop through each page\n",
    "for p in range(1,page_num+1):\n",
    "    page_url = url + '&page=' + str(p) + '&sort=newest'\n",
    "    result = requests.get(page_url)\n",
    "    #print(result.status_code)\n",
    "    c = result.content\n",
    "    soup = BeautifulSoup(c,\"lxml\")\n",
    "    docs = soup.find('div',{'id':'browse-results'}).findAll('div',{'class':'col'})\n",
    "\n",
    "    for doc in docs:\n",
    "        author = doc.find('h4',{'class':'h12 talk-link__speaker'}).getText()\n",
    "        link = 'https://www.ted.com' + doc.find('a').get('href')\n",
    "        title = doc.find('h4',{'class':'h9 m5'}).getText().strip(' \\t\\n\\r').replace('\\n','').replace('\\r',' ')\n",
    "        date = doc.find('div',{'class':'media__message'}).find('span',{'meta__item'}).find('span',{'meta__val'}).getText().strip(' \\t\\n\\r').replace('\\n','')\n",
    "\n",
    "        doc_list['title'].append(title)\n",
    "        doc_list['author'].append(author)\n",
    "        doc_list['date'].append(date)\n",
    "        doc_list['link'].append(link)\n",
    "        ## end of  inner loop\n",
    "## end of outer loop \n",
    "print(len(doc_list['link']))"
   ]
  },
  {
   "cell_type": "code",
   "execution_count": 7,
   "metadata": {
    "collapsed": false
   },
   "outputs": [
    {
     "data": {
      "text/html": [
       "<div>\n",
       "<table border=\"1\" class=\"dataframe\">\n",
       "  <thead>\n",
       "    <tr style=\"text-align: right;\">\n",
       "      <th></th>\n",
       "      <th>author</th>\n",
       "      <th>date</th>\n",
       "      <th>link</th>\n",
       "      <th>title</th>\n",
       "      <th>status</th>\n",
       "    </tr>\n",
       "  </thead>\n",
       "  <tbody>\n",
       "    <tr>\n",
       "      <th>0</th>\n",
       "      <td>Manwar Ali</td>\n",
       "      <td>Oct 2016</td>\n",
       "      <td>https://www.ted.com/talks/manwar_ali_inside_th...</td>\n",
       "      <td>窺探前激進聖戰士的內心</td>\n",
       "      <td>0</td>\n",
       "    </tr>\n",
       "    <tr>\n",
       "      <th>1</th>\n",
       "      <td>Pico Iyer</td>\n",
       "      <td>Oct 2016</td>\n",
       "      <td>https://www.ted.com/talks/pico_iyer_the_beauty...</td>\n",
       "      <td>未知的美麗</td>\n",
       "      <td>0</td>\n",
       "    </tr>\n",
       "    <tr>\n",
       "      <th>2</th>\n",
       "      <td>Ellen Jorgensen</td>\n",
       "      <td>Oct 2016</td>\n",
       "      <td>https://www.ted.com/talks/ellen_jorgensen_what...</td>\n",
       "      <td>關於 CRISPR，你該知道什麼？</td>\n",
       "      <td>0</td>\n",
       "    </tr>\n",
       "    <tr>\n",
       "      <th>3</th>\n",
       "      <td>Sam Harris</td>\n",
       "      <td>Sep 2016</td>\n",
       "      <td>https://www.ted.com/talks/sam_harris_can_we_bu...</td>\n",
       "      <td>我們能打造不會失控的人工智慧？</td>\n",
       "      <td>0</td>\n",
       "    </tr>\n",
       "    <tr>\n",
       "      <th>4</th>\n",
       "      <td>Oded Shoseyov</td>\n",
       "      <td>Sep 2016</td>\n",
       "      <td>https://www.ted.com/talks/oded_shoseyov_how_we...</td>\n",
       "      <td>我們如何駕馭大自然隱藏的超能力</td>\n",
       "      <td>0</td>\n",
       "    </tr>\n",
       "    <tr>\n",
       "      <th>5</th>\n",
       "      <td>J.D. Vance</td>\n",
       "      <td>Sep 2016</td>\n",
       "      <td>https://www.ted.com/talks/j_d_vance_america_s_...</td>\n",
       "      <td>被遺忘的美國勞工階層家庭與他們的困境</td>\n",
       "      <td>0</td>\n",
       "    </tr>\n",
       "  </tbody>\n",
       "</table>\n",
       "</div>"
      ],
      "text/plain": [
       "            author      date  \\\n",
       "0       Manwar Ali  Oct 2016   \n",
       "1        Pico Iyer  Oct 2016   \n",
       "2  Ellen Jorgensen  Oct 2016   \n",
       "3       Sam Harris  Sep 2016   \n",
       "4    Oded Shoseyov  Sep 2016   \n",
       "5       J.D. Vance  Sep 2016   \n",
       "\n",
       "                                                link               title  \\\n",
       "0  https://www.ted.com/talks/manwar_ali_inside_th...         窺探前激進聖戰士的內心   \n",
       "1  https://www.ted.com/talks/pico_iyer_the_beauty...               未知的美麗   \n",
       "2  https://www.ted.com/talks/ellen_jorgensen_what...   關於 CRISPR，你該知道什麼？   \n",
       "3  https://www.ted.com/talks/sam_harris_can_we_bu...     我們能打造不會失控的人工智慧？   \n",
       "4  https://www.ted.com/talks/oded_shoseyov_how_we...     我們如何駕馭大自然隱藏的超能力   \n",
       "5  https://www.ted.com/talks/j_d_vance_america_s_...  被遺忘的美國勞工階層家庭與他們的困境   \n",
       "\n",
       "   status  \n",
       "0       0  \n",
       "1       0  \n",
       "2       0  \n",
       "3       0  \n",
       "4       0  \n",
       "5       0  "
      ]
     },
     "execution_count": 7,
     "metadata": {},
     "output_type": "execute_result"
    }
   ],
   "source": [
    "## export links file \n",
    "df = pd.DataFrame(doc_list)\n",
    "df['status']= 0\n",
    "df.to_csv('Ted_links.csv')\n",
    "df.ix[0:5]"
   ]
  },
  {
   "cell_type": "code",
   "execution_count": null,
   "metadata": {
    "collapsed": false
   },
   "outputs": [],
   "source": []
  },
  {
   "cell_type": "code",
   "execution_count": null,
   "metadata": {
    "collapsed": true
   },
   "outputs": [],
   "source": []
  }
 ],
 "metadata": {
  "anaconda-cloud": {},
  "kernelspec": {
   "display_name": "Python [conda root]",
   "language": "python",
   "name": "conda-root-py"
  },
  "language_info": {
   "codemirror_mode": {
    "name": "ipython",
    "version": 3
   },
   "file_extension": ".py",
   "mimetype": "text/x-python",
   "name": "python",
   "nbconvert_exporter": "python",
   "pygments_lexer": "ipython3",
   "version": "3.5.2"
  }
 },
 "nbformat": 4,
 "nbformat_minor": 1
}
