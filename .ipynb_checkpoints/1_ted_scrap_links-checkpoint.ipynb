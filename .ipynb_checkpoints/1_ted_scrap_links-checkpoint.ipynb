{
 "cells": [
  {
   "cell_type": "markdown",
   "metadata": {},
   "source": [
    "### Scrape links from TED"
   ]
  },
  {
   "cell_type": "code",
   "execution_count": 2,
   "metadata": {
    "collapsed": false
   },
   "outputs": [],
   "source": [
    "from bs4 import BeautifulSoup\n",
    "import requests\n",
    "import pandas as pd\n",
    "import os \n",
    "import json "
   ]
  },
  {
   "cell_type": "code",
   "execution_count": 3,
   "metadata": {
    "collapsed": false
   },
   "outputs": [
    {
     "name": "stdout",
     "output_type": "stream",
     "text": [
      "502\n"
     ]
    }
   ],
   "source": [
    "## send the request\n",
    "url = \"https://www.ted.com/talks?language=zh-cn&sort=newest\"\n",
    "result = requests.get(url)\n",
    "print(result.status_code)"
   ]
  },
  {
   "cell_type": "code",
   "execution_count": null,
   "metadata": {
    "collapsed": true
   },
   "outputs": [],
   "source": [
    "## get page number\n",
    "c = result.content\n",
    "soup = BeautifulSoup(c,\"lxml\")\n",
    "pages =  soup.find('div',{'class':'results__pagination'}).find('div')\n",
    "page_num = pages.findAll('a')[-2].getText()\n",
    "page_num = int(page_num)"
   ]
  },
  {
   "cell_type": "code",
   "execution_count": null,
   "metadata": {
    "collapsed": true
   },
   "outputs": [],
   "source": [
    "## create doc_list to hold all links \n",
    "doc_list = {'title':[],'author':[],'date':[],'link':[]}\n",
    "\n",
    "## loop through each page\n",
    "for p in range(1,page_num+1):\n",
    "    page_url = 'https://www.ted.com/talks?language=zh-cn&page=' + str(p) + '&sort=newest'\n",
    "    result = requests.get(url)\n",
    "    print(result.status_code)\n",
    "    c = result.content\n",
    "    soup = BeautifulSoup(c,\"lxml\")\n",
    "    docs = soup.find('div',{'id':'browse-results'}).findAll('div',{'class':'col'})\n",
    "\n",
    "    for doc in docs:\n",
    "        author = doc.find('h4',{'class':'h12 talk-link__speaker'}).getText()\n",
    "        link = 'https://www.ted.com' + doc.find('a').get('href')\n",
    "        title = doc.find('h4',{'class':'h9 m5'}).getText().strip(' \\t\\n\\r').replace('\\n','')\n",
    "        date = doc.find('div',{'class':'media__message'}).find('span',{'meta__item'}).find('span',{'meta__val'}).getText().strip(' \\t\\n\\r').replace('\\n','')\n",
    "\n",
    "        doc_list['title'].append(title)\n",
    "        doc_list['author'].append(author)\n",
    "        doc_list['date'].append(date)\n",
    "        doc_list['link'].append(link)\n",
    "        ## end of  inner loop\n",
    "## end of outer loop "
   ]
  },
  {
   "cell_type": "code",
   "execution_count": null,
   "metadata": {
    "collapsed": true
   },
   "outputs": [],
   "source": [
    "## \n",
    "df = pd.DataFrame(doc_list)\n",
    "df.to_csv('sample.csv')\n",
    "df.head()"
   ]
  }
 ],
 "metadata": {
  "kernelspec": {
   "display_name": "Python [conda root]",
   "language": "python",
   "name": "conda-root-py"
  },
  "language_info": {
   "codemirror_mode": {
    "name": "ipython",
    "version": 3
   },
   "file_extension": ".py",
   "mimetype": "text/x-python",
   "name": "python",
   "nbconvert_exporter": "python",
   "pygments_lexer": "ipython3",
   "version": "3.5.2"
  }
 },
 "nbformat": 4,
 "nbformat_minor": 1
}
