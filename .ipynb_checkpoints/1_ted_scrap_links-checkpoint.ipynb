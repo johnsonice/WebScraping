{
 "cells": [
  {
   "cell_type": "markdown",
   "metadata": {},
   "source": [
    "### Scrape links from TED"
   ]
  },
  {
   "cell_type": "code",
   "execution_count": 19,
   "metadata": {
    "collapsed": false
   },
   "outputs": [],
   "source": [
    "from bs4 import BeautifulSoup\n",
    "import requests\n",
    "import pandas as pd\n",
    "import os \n",
    "import json "
   ]
  },
  {
   "cell_type": "code",
   "execution_count": 20,
   "metadata": {
    "collapsed": false
   },
   "outputs": [
    {
     "name": "stdout",
     "output_type": "stream",
     "text": [
      "200\n"
     ]
    }
   ],
   "source": [
    "## send the request\n",
    "url = \"https://www.ted.com/talks?language=zh-cn&sort=newest\"\n",
    "result = requests.get(url)\n",
    "print(result.status_code)"
   ]
  },
  {
   "cell_type": "code",
   "execution_count": 21,
   "metadata": {
    "collapsed": false
   },
   "outputs": [
    {
     "name": "stdout",
     "output_type": "stream",
     "text": [
      "62\n"
     ]
    }
   ],
   "source": [
    "## get page number\n",
    "c = result.content\n",
    "soup = BeautifulSoup(c,\"lxml\")\n",
    "pages =  soup.find('div',{'class':'results__pagination'}).find('div')\n",
    "page_num = pages.findAll('a')[-2].getText()\n",
    "page_num = int(page_num)\n",
    "print(page_num)"
   ]
  },
  {
   "cell_type": "code",
   "execution_count": 22,
   "metadata": {
    "collapsed": false
   },
   "outputs": [
    {
     "name": "stdout",
     "output_type": "stream",
     "text": [
      "2211\n"
     ]
    }
   ],
   "source": [
    "## create doc_list to hold all links \n",
    "doc_list = {'title':[],'author':[],'date':[],'link':[]}\n",
    "\n",
    "## loop through each page\n",
    "for p in range(1,page_num+1):\n",
    "    page_url = 'https://www.ted.com/talks?language=zh-cn&page=' + str(p) + '&sort=newest'\n",
    "    result = requests.get(page_url)\n",
    "    #print(result.status_code)\n",
    "    c = result.content\n",
    "    soup = BeautifulSoup(c,\"lxml\")\n",
    "    docs = soup.find('div',{'id':'browse-results'}).findAll('div',{'class':'col'})\n",
    "\n",
    "    for doc in docs:\n",
    "        author = doc.find('h4',{'class':'h12 talk-link__speaker'}).getText()\n",
    "        link = 'https://www.ted.com' + doc.find('a').get('href')\n",
    "        title = doc.find('h4',{'class':'h9 m5'}).getText().strip(' \\t\\n\\r').replace('\\n','').replace('\\r',' ')\n",
    "        date = doc.find('div',{'class':'media__message'}).find('span',{'meta__item'}).find('span',{'meta__val'}).getText().strip(' \\t\\n\\r').replace('\\n','')\n",
    "\n",
    "        doc_list['title'].append(title)\n",
    "        doc_list['author'].append(author)\n",
    "        doc_list['date'].append(date)\n",
    "        doc_list['link'].append(link)\n",
    "        ## end of  inner loop\n",
    "## end of outer loop \n",
    "print(len(doc_list['link']))"
   ]
  },
  {
   "cell_type": "code",
   "execution_count": 25,
   "metadata": {
    "collapsed": false
   },
   "outputs": [
    {
     "data": {
      "text/html": [
       "<div>\n",
       "<table border=\"1\" class=\"dataframe\">\n",
       "  <thead>\n",
       "    <tr style=\"text-align: right;\">\n",
       "      <th></th>\n",
       "      <th>author</th>\n",
       "      <th>date</th>\n",
       "      <th>link</th>\n",
       "      <th>title</th>\n",
       "      <th>status</th>\n",
       "    </tr>\n",
       "  </thead>\n",
       "  <tbody>\n",
       "    <tr>\n",
       "      <th>0</th>\n",
       "      <td>Kevin Kelly</td>\n",
       "      <td>Dec 2016</td>\n",
       "      <td>https://www.ted.com/talks/kevin_kelly_how_ai_c...</td>\n",
       "      <td>人工智能将如何推动第二次工业革命</td>\n",
       "      <td>0</td>\n",
       "    </tr>\n",
       "    <tr>\n",
       "      <th>1</th>\n",
       "      <td>Jia Jiang</td>\n",
       "      <td>Dec 2016</td>\n",
       "      <td>https://www.ted.com/talks/jia_jiang_what_i_lea...</td>\n",
       "      <td>我从“被拒100天”学到的</td>\n",
       "      <td>0</td>\n",
       "    </tr>\n",
       "    <tr>\n",
       "      <th>2</th>\n",
       "      <td>Danny Dorling</td>\n",
       "      <td>Nov 2016</td>\n",
       "      <td>https://www.ted.com/talks/danny_dorling_maps_t...</td>\n",
       "      <td>地图能让我们认识到真正的自己（不仅仅告诉我们在哪）</td>\n",
       "      <td>0</td>\n",
       "    </tr>\n",
       "    <tr>\n",
       "      <th>3</th>\n",
       "      <td>Juan Enriquez</td>\n",
       "      <td>Nov 2016</td>\n",
       "      <td>https://www.ted.com/talks/juan_enriquez_what_w...</td>\n",
       "      <td>人类100年后会变成什么样子？</td>\n",
       "      <td>0</td>\n",
       "    </tr>\n",
       "    <tr>\n",
       "      <th>4</th>\n",
       "      <td>Roger Antonsen</td>\n",
       "      <td>Nov 2016</td>\n",
       "      <td>https://www.ted.com/talks/roger_antonsen_math_...</td>\n",
       "      <td>理解世界的秘诀：数学</td>\n",
       "      <td>0</td>\n",
       "    </tr>\n",
       "    <tr>\n",
       "      <th>5</th>\n",
       "      <td>Hector Garcia</td>\n",
       "      <td>Nov 2016</td>\n",
       "      <td>https://www.ted.com/talks/hector_garcia_we_tra...</td>\n",
       "      <td>我们训练士兵在战场上冲锋陷阵；让我们也训练他们如何回家</td>\n",
       "      <td>0</td>\n",
       "    </tr>\n",
       "  </tbody>\n",
       "</table>\n",
       "</div>"
      ],
      "text/plain": [
       "           author      date  \\\n",
       "0     Kevin Kelly  Dec 2016   \n",
       "1       Jia Jiang  Dec 2016   \n",
       "2   Danny Dorling  Nov 2016   \n",
       "3   Juan Enriquez  Nov 2016   \n",
       "4  Roger Antonsen  Nov 2016   \n",
       "5   Hector Garcia  Nov 2016   \n",
       "\n",
       "                                                link  \\\n",
       "0  https://www.ted.com/talks/kevin_kelly_how_ai_c...   \n",
       "1  https://www.ted.com/talks/jia_jiang_what_i_lea...   \n",
       "2  https://www.ted.com/talks/danny_dorling_maps_t...   \n",
       "3  https://www.ted.com/talks/juan_enriquez_what_w...   \n",
       "4  https://www.ted.com/talks/roger_antonsen_math_...   \n",
       "5  https://www.ted.com/talks/hector_garcia_we_tra...   \n",
       "\n",
       "                         title  status  \n",
       "0             人工智能将如何推动第二次工业革命       0  \n",
       "1                我从“被拒100天”学到的       0  \n",
       "2    地图能让我们认识到真正的自己（不仅仅告诉我们在哪）       0  \n",
       "3              人类100年后会变成什么样子？       0  \n",
       "4                   理解世界的秘诀：数学       0  \n",
       "5  我们训练士兵在战场上冲锋陷阵；让我们也训练他们如何回家       0  "
      ]
     },
     "execution_count": 25,
     "metadata": {},
     "output_type": "execute_result"
    }
   ],
   "source": [
    "## export links file \n",
    "df = pd.DataFrame(doc_list)\n",
    "df['status']= 0\n",
    "df.to_csv('data/Ted_links.csv')\n",
    "df.ix[0:5]"
   ]
  },
  {
   "cell_type": "code",
   "execution_count": null,
   "metadata": {
    "collapsed": false
   },
   "outputs": [],
   "source": []
  },
  {
   "cell_type": "code",
   "execution_count": null,
   "metadata": {
    "collapsed": true
   },
   "outputs": [],
   "source": []
  }
 ],
 "metadata": {
  "anaconda-cloud": {},
  "kernelspec": {
   "display_name": "Python [conda root]",
   "language": "python",
   "name": "conda-root-py"
  },
  "language_info": {
   "codemirror_mode": {
    "name": "ipython",
    "version": 3
   },
   "file_extension": ".py",
   "mimetype": "text/x-python",
   "name": "python",
   "nbconvert_exporter": "python",
   "pygments_lexer": "ipython3",
   "version": "3.5.2"
  }
 },
 "nbformat": 4,
 "nbformat_minor": 1
}
