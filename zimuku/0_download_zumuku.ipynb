{
 "cells": [
  {
   "cell_type": "code",
   "execution_count": 1,
   "metadata": {
    "collapsed": true
   },
   "outputs": [],
   "source": [
    "from bs4 import BeautifulSoup\n",
    "import requests\n",
    "import pandas as pd\n",
    "import os "
   ]
  },
  {
   "cell_type": "markdown",
   "metadata": {},
   "source": [
    "## 1.Get all links for zimuku items"
   ]
  },
  {
   "cell_type": "code",
   "execution_count": 2,
   "metadata": {
    "collapsed": false
   },
   "outputs": [
    {
     "name": "stdout",
     "output_type": "stream",
     "text": [
      "200\n"
     ]
    }
   ],
   "source": [
    "## send the request\n",
    "url = \"http://www.zimuku.net/search?q=&t=onlyst\"\n",
    "result = requests.get(url)\n",
    "print(result.status_code)"
   ]
  },
  {
   "cell_type": "code",
   "execution_count": 3,
   "metadata": {
    "collapsed": false
   },
   "outputs": [
    {
     "name": "stdout",
     "output_type": "stream",
     "text": [
      "12993\n"
     ]
    }
   ],
   "source": [
    "## get page number\n",
    "c = result.content\n",
    "soup = BeautifulSoup(c,\"lxml\")\n",
    "pages =  soup.find('div',{'class':'pagination r clearfix'}).find('div')\n",
    "page_num = pages.findAll('a')[-1].getText()\n",
    "page_num = int(page_num)\n",
    "print(page_num)\n"
   ]
  },
  {
   "cell_type": "code",
   "execution_count": 4,
   "metadata": {
    "collapsed": false
   },
   "outputs": [],
   "source": [
    "## get download link from title link \n",
    "def get_down_link(url):\n",
    "    #url = \"http://www.zimuku.net/shooter/57265.html\"\n",
    "    try:\n",
    "        result = requests.get(url)\n",
    "        if result.status_code != 200:\n",
    "            return None\n",
    "        c = result.content\n",
    "        soup = BeautifulSoup(c,\"lxml\")\n",
    "        down_link =  soup.find('li',{'class':'li dlsub'}).find('a').get('href')\n",
    "        return down_link\n",
    "    except:\n",
    "        return None"
   ]
  },
  {
   "cell_type": "code",
   "execution_count": null,
   "metadata": {
    "collapsed": true
   },
   "outputs": [],
   "source": [
    "## download \n",
    "def download_zip(url,folder):\n",
    "    try:\n",
    "        result = requests.get(url)\n",
    "        fname = result.headers['Content-Disposition'].split('\"')[1]\n",
    "        res= result.content\n",
    "        with open( folder + fname, \"wb\" ) as f :\n",
    "                f.write( res )\n",
    "        return True\n",
    "    except:\n",
    "        return False"
   ]
  },
  {
   "cell_type": "markdown",
   "metadata": {},
   "source": [
    "### set up some global variables"
   ]
  },
  {
   "cell_type": "code",
   "execution_count": null,
   "metadata": {
    "collapsed": false
   },
   "outputs": [
    {
     "name": "stdout",
     "output_type": "stream",
     "text": [
      "0 success\n",
      "1 success\n",
      "2 success\n",
      "3 success\n",
      "4 success\n",
      "5 success\n",
      "6 success\n",
      "7 success\n",
      "8 success\n",
      "9 success\n",
      "10 success\n",
      "11 success\n",
      "12 success\n",
      "13 success\n",
      "14 success\n",
      "15 success\n",
      "16 success\n",
      "17 success\n",
      "18 success\n",
      "19 success\n",
      "20 success\n",
      "21 success\n",
      "22 success\n",
      "23 success\n",
      "24 success\n",
      "25 success\n",
      "26 success\n",
      "27 success\n",
      "28 success\n",
      "29 success\n",
      "30 success\n",
      "31 success\n",
      "32 success\n",
      "33 success\n",
      "34 success\n",
      "35 success\n",
      "36 success\n",
      "37 success\n",
      "38 success\n",
      "39 success\n",
      "40 success\n",
      "41 success\n",
      "42 success\n",
      "43 success\n",
      "44 success\n",
      "45 success\n",
      "46 success\n",
      "47 success\n",
      "48 success\n",
      "49 success\n",
      "50 success\n",
      "51 success\n",
      "52 success\n",
      "53 success\n",
      "54 success\n",
      "55 success\n",
      "56 success\n",
      "57 success\n",
      "58 success\n",
      "59 success\n",
      "60 success\n",
      "61 success\n",
      "62 success\n",
      "63 success\n",
      "64 success\n",
      "65 success\n",
      "66 success\n",
      "67 success\n",
      "68 success\n",
      "69 success\n",
      "70 success\n",
      "71 success\n",
      "72 success\n",
      "73 success\n",
      "74 success\n",
      "75 success\n",
      "76 success\n",
      "77 success\n",
      "78 success\n",
      "79 success\n",
      "80 success\n",
      "81 success\n",
      "82 success\n",
      "83 success\n",
      "84 success\n",
      "85 success\n",
      "86 success\n",
      "87 success\n",
      "88 success\n",
      "89 success\n",
      "90 success\n",
      "91 success\n",
      "92 success\n",
      "93 success\n",
      "94 success\n",
      "95 success\n",
      "96 success\n",
      "97 success\n",
      "98 success\n",
      "99 success\n",
      "100 success\n",
      "101 success\n",
      "102 success\n",
      "103 success\n",
      "104 success\n",
      "105 success\n",
      "106 success\n",
      "107 success\n",
      "108 success\n",
      "109 success\n",
      "110 success\n",
      "111 success\n",
      "112 success\n",
      "113 success\n",
      "114 success\n",
      "115 success\n",
      "116 success\n",
      "117 success\n",
      "118 success\n",
      "119 success\n",
      "120 success\n",
      "121 success\n",
      "122 success\n",
      "123 success\n",
      "124 success\n",
      "125 success\n",
      "126 success\n",
      "127 success\n",
      "128 success\n",
      "129 success\n",
      "130 success\n",
      "131 success\n",
      "132 success\n",
      "133 success\n",
      "134 success\n",
      "135 success\n",
      "136 success\n",
      "137 success\n",
      "138 success\n",
      "139 success\n",
      "140 success\n",
      "141 success\n",
      "142 success\n",
      "143 success\n",
      "144 success\n",
      "145 success\n",
      "146 success\n",
      "147 success\n",
      "148 success\n",
      "149 success\n",
      "150 success\n",
      "151 success\n",
      "152 success\n",
      "153 success\n",
      "154 success\n",
      "155 success\n",
      "156 success\n",
      "157 success\n",
      "158 success\n",
      "159 success\n",
      "160 success\n",
      "161 success\n",
      "162 success\n",
      "163 success\n",
      "164 success\n",
      "165 success\n",
      "166 success\n",
      "167 success\n",
      "168 success\n",
      "169 success\n",
      "170 success\n",
      "171 success\n",
      "172 success\n",
      "173 success\n",
      "174 success\n",
      "175 success\n",
      "176 success\n",
      "177 success\n",
      "178 success\n",
      "179 success\n",
      "180 success\n",
      "181 success\n",
      "182 success\n",
      "183 success\n",
      "184 success\n",
      "185 success\n",
      "186 success\n",
      "187 success\n",
      "188 success\n",
      "189 success\n",
      "190 success\n",
      "191 success\n",
      "192 success\n",
      "193 success\n",
      "194 success\n",
      "195 success\n",
      "196 success\n",
      "197 success\n",
      "198 success\n",
      "199 success\n",
      "200 success\n",
      "201 success\n",
      "202 success\n",
      "203 success\n",
      "204 success\n",
      "205 success\n"
     ]
    }
   ],
   "source": [
    "## create doc_list to hold all links \n",
    "doc_list = {'title':[],'link':[],'status':[]}\n",
    "page_num = 10000\n",
    "folder = 'data/'\n",
    "\n",
    "## loop through each page\n",
    "for p in range(1,page_num+1):\n",
    "    print(p-1, 'success')\n",
    "    try:\n",
    "        page_url = url + '&p=' + str(p)\n",
    "        result = requests.get(page_url)\n",
    "        #print(result.status_code)\n",
    "        c = result.content\n",
    "        soup = BeautifulSoup(c,\"lxml\")\n",
    "        docs = soup.find('div',{'class':'box clearfix'}).findAll('div',{'class':'persub clearfix'})\n",
    "\n",
    "        for doc in docs:\n",
    "\n",
    "            ## get title \n",
    "            link_tag = doc.find('h1',{'class':'title'}).find('a')\n",
    "            title = link_tag.getText().strip(' \\t\\n\\r@').replace('\\n','').replace('\\r',' ')\n",
    "            if title == '_':\n",
    "                continue\n",
    "            elif \"/\" in title:\n",
    "                 title = title.split(\"/\")[0]\n",
    "\n",
    "            link='http://www.zimuku.net'+link_tag.get('href')\n",
    "\n",
    "            ## get download link \n",
    "            down_link = get_down_link(link)\n",
    "\n",
    "            doc_list['title'].append(title)\n",
    "            doc_list['link'].append(down_link)\n",
    "        \n",
    "            ## download file \n",
    "            response = download_zip(down_link,folder)\n",
    "            doc_list['status'].append(response)\n",
    "    except:\n",
    "        doc_list['status'].append(False)\n",
    "        continue\n",
    "\n",
    "print(len(doc_list['link']))"
   ]
  },
  {
   "cell_type": "code",
   "execution_count": null,
   "metadata": {
    "collapsed": false
   },
   "outputs": [],
   "source": [
    "## export links file \n",
    "df = pd.DataFrame(doc_list)\n",
    "df.to_csv('zimuku_links_v1.csv')\n",
    "df.ix[0:5]"
   ]
  },
  {
   "cell_type": "markdown",
   "metadata": {},
   "source": [
    "## Now start downloading"
   ]
  },
  {
   "cell_type": "code",
   "execution_count": null,
   "metadata": {
    "collapsed": false
   },
   "outputs": [],
   "source": [
    "\n"
   ]
  },
  {
   "cell_type": "code",
   "execution_count": null,
   "metadata": {
    "collapsed": false
   },
   "outputs": [],
   "source": []
  },
  {
   "cell_type": "code",
   "execution_count": null,
   "metadata": {
    "collapsed": false
   },
   "outputs": [],
   "source": []
  },
  {
   "cell_type": "code",
   "execution_count": null,
   "metadata": {
    "collapsed": false
   },
   "outputs": [],
   "source": []
  },
  {
   "cell_type": "code",
   "execution_count": null,
   "metadata": {
    "collapsed": false
   },
   "outputs": [],
   "source": []
  },
  {
   "cell_type": "code",
   "execution_count": null,
   "metadata": {
    "collapsed": true
   },
   "outputs": [],
   "source": []
  }
 ],
 "metadata": {
  "anaconda-cloud": {},
  "kernelspec": {
   "display_name": "Python [conda root]",
   "language": "python",
   "name": "conda-root-py"
  },
  "language_info": {
   "codemirror_mode": {
    "name": "ipython",
    "version": 3
   },
   "file_extension": ".py",
   "mimetype": "text/x-python",
   "name": "python",
   "nbconvert_exporter": "python",
   "pygments_lexer": "ipython3",
   "version": "3.5.2"
  }
 },
 "nbformat": 4,
 "nbformat_minor": 2
}
