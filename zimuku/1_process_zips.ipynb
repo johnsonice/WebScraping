{
 "cells": [
  {
   "cell_type": "markdown",
   "metadata": {},
   "source": [
    "### Unpack all zip and rar files "
   ]
  },
  {
   "cell_type": "code",
   "execution_count": 1,
   "metadata": {
    "collapsed": false
   },
   "outputs": [
    {
     "ename": "ImportError",
     "evalue": "No module named 'patoolib'",
     "output_type": "error",
     "traceback": [
      "\u001b[0;31m---------------------------------------------------------------------------\u001b[0m",
      "\u001b[0;31mImportError\u001b[0m                               Traceback (most recent call last)",
      "\u001b[0;32m<ipython-input-1-e2f11fffc95b>\u001b[0m in \u001b[0;36m<module>\u001b[0;34m()\u001b[0m\n\u001b[1;32m      1\u001b[0m \u001b[0;32mimport\u001b[0m \u001b[0mos\u001b[0m\u001b[0;34m\u001b[0m\u001b[0m\n\u001b[1;32m      2\u001b[0m \u001b[0;32mfrom\u001b[0m \u001b[0mos\u001b[0m \u001b[0;32mimport\u001b[0m \u001b[0mpath\u001b[0m\u001b[0;34m\u001b[0m\u001b[0m\n\u001b[0;32m----> 3\u001b[0;31m \u001b[0;32mimport\u001b[0m \u001b[0mpatoolib\u001b[0m               \u001b[0;31m#for unpacking\u001b[0m\u001b[0;34m\u001b[0m\u001b[0m\n\u001b[0m\u001b[1;32m      4\u001b[0m \u001b[0;32mfrom\u001b[0m \u001b[0mpyunpack\u001b[0m \u001b[0;32mimport\u001b[0m \u001b[0mArchive\u001b[0m  \u001b[0;31m# for unpacking\u001b[0m\u001b[0;34m\u001b[0m\u001b[0m\n\u001b[1;32m      5\u001b[0m \u001b[0;32mfrom\u001b[0m \u001b[0mshutil\u001b[0m \u001b[0;32mimport\u001b[0m \u001b[0mcopyfile\u001b[0m\u001b[0;34m\u001b[0m\u001b[0m\n",
      "\u001b[0;31mImportError\u001b[0m: No module named 'patoolib'"
     ]
    }
   ],
   "source": [
    "import os \n",
    "from os import path\n",
    "import patoolib               #for unpacking\n",
    "from pyunpack import Archive  # for unpacking\n",
    "from shutil import copyfile\n",
    "import pysrt\n",
    "from mafan import simplify\n",
    "from guess_language import guess_language\n",
    "from itertools import compress"
   ]
  },
  {
   "cell_type": "markdown",
   "metadata": {},
   "source": [
    "##### instructions for apt-get packages not available \n",
    "##### http://askubuntu.com/questions/283020/ubuntu-12-04-package-issues\n",
    "##### follow https://github.com/ponty/pyunpack to install pyunpack"
   ]
  },
  {
   "cell_type": "code",
   "execution_count": 2,
   "metadata": {
    "collapsed": false
   },
   "outputs": [],
   "source": [
    "def check(f):\n",
    "    filename, file_extension = os.path.splitext(f)\n",
    "    if file_extension == '.zip' or file_extension == '.rar' or file_extension == '.7z':\n",
    "        return True\n",
    "    else:\n",
    "        return False\n",
    "def check_srt(f):\n",
    "    filename, file_extension = os.path.splitext(f)\n",
    "    if file_extension == '.srt':\n",
    "        return True\n",
    "    else:\n",
    "        return False\n",
    "def check_ass(f):\n",
    "    filename, file_extension = os.path.splitext(f)\n",
    "    if file_extension == '.ass':\n",
    "        return True\n",
    "    else:\n",
    "        return False\n",
    "    \n",
    "## use either gbk or big5 or utf-8\n",
    "def open_srt(f):\n",
    "    try:\n",
    "        some_subs = pysrt.open(f,encoding = 'gbk') \n",
    "        return some_subs\n",
    "    except:\n",
    "        pass\n",
    "    try:\n",
    "        some_subs = pysrt.open(f,encoding = 'big5') \n",
    "        return some_subs\n",
    "    except:\n",
    "        pass\n",
    "    try:\n",
    "        some_subs = pysrt.open(f) \n",
    "        return some_subs\n",
    "    except:\n",
    "        pass\n",
    "    \n",
    "    return None\n",
    "\n",
    "def validate(srt):\n",
    "    subs = open_srt(srt) \n",
    "    if subs is not None:\n",
    "        languages = [process_language(ele) for ele in subs]\n",
    "        return languages\n",
    "    else:\n",
    "        #print('Can not decode.')\n",
    "        return None\n",
    "    \n",
    "def process_language(ele):\n",
    "    try:\n",
    "        text_list = ele.text.split('\\n')\n",
    "        languages = [guess_language(l) for l in text_list]\n",
    "        en_index = [l=='en' for l in languages]\n",
    "        zh_index = [l=='zh' for l in languages]\n",
    "        en_lines = list(compress(text_list,en_index))\n",
    "        zh_lines = list(compress(text_list,zh_index))\n",
    "        if len(en_lines)==0 or len(zh_lines)==0:\n",
    "            return None\n",
    "        en_text = ' '.join(en_lines)\n",
    "        zh_text = simplify(' '.join(zh_lines))\n",
    "        text_line = en_text + ' | ' + zh_text\n",
    "        return text_line\n",
    "    except:\n",
    "        return None\n"
   ]
  },
  {
   "cell_type": "code",
   "execution_count": 3,
   "metadata": {
    "collapsed": false
   },
   "outputs": [
    {
     "data": {
      "text/plain": [
       "'/home/johnsonice/Desktop/Ubuntu Backup/temp/webScrap/zimuku'"
      ]
     },
     "execution_count": 3,
     "metadata": {},
     "output_type": "execute_result"
    }
   ],
   "source": [
    "os.getcwd()"
   ]
  },
  {
   "cell_type": "code",
   "execution_count": 4,
   "metadata": {
    "collapsed": false
   },
   "outputs": [],
   "source": [
    "data_raw = 'data_raw/'\n",
    "data_unpack = 'data_unpack/'\n",
    "data_srt = 'data_srt/'\n",
    "data_ass = 'data_ass/'\n",
    "results_raw = 'data_results_raw/'"
   ]
  },
  {
   "cell_type": "code",
   "execution_count": 5,
   "metadata": {
    "collapsed": false
   },
   "outputs": [
    {
     "data": {
      "text/plain": [
       "1227"
      ]
     },
     "execution_count": 5,
     "metadata": {},
     "output_type": "execute_result"
    }
   ],
   "source": [
    "links = os.listdir(data_raw)\n",
    "files = [f for f in links if check(f)]\n",
    "len(files)"
   ]
  },
  {
   "cell_type": "code",
   "execution_count": 6,
   "metadata": {
    "collapsed": false
   },
   "outputs": [],
   "source": [
    "## unpack all the data\n",
    "for index,f in enumerate(files):\n",
    "    try:\n",
    "        f_name,f_ext = os.path.splitext(f)\n",
    "        Archive(data_raw+f).extractall(data_unpack)\n",
    "    except:\n",
    "        pass"
   ]
  },
  {
   "cell_type": "code",
   "execution_count": 7,
   "metadata": {
    "collapsed": true
   },
   "outputs": [],
   "source": [
    "## get all srt files, including files in subfolders \n",
    "## get all ass files, influding files in sub folders \n",
    "unpack_links = []\n",
    "unpack_names = []\n",
    "for path, subdirs, files in os.walk(data_unpack):\n",
    "    for name in files:\n",
    "        unpack_links.append(os.path.join(path, name))\n",
    "        unpack_names.append(name)\n",
    "#unpack_links = os.listdir(data_unpack)\n",
    "pair = zip(unpack_links,unpack_names)\n",
    "asss = [f for f in pair if check_ass(f[0])]\n",
    "pair = zip(unpack_links,unpack_names)\n",
    "srts = [f for f in pair if check_srt(f[0])]\n",
    "if len(srts)>0:\n",
    "    [copyfile(f[0],data_srt+f[1]) for f in srts]\n",
    "if len(asss)>0:\n",
    "    [copyfile(f[0],data_ass+f[1]) for f in asss]"
   ]
  },
  {
   "cell_type": "code",
   "execution_count": null,
   "metadata": {
    "collapsed": false
   },
   "outputs": [],
   "source": [
    "## search for srts with both chinese and english in it\n",
    "## and transform them into txt, seperated by |, dump to results raw\n",
    "data_srts = [data_srt + f for f in os.listdir(data_srt)]\n",
    "counter = 0 \n",
    "for index, srt in enumerate(data_srts):\n",
    "    res = validate(srt)\n",
    "    if res is not None: \n",
    "        total = len(res)\n",
    "        ## we only gonna to use files with both english and chinese in it \n",
    "        if total > 0:\n",
    "            none_values = sum([x is None for x in res ])\n",
    "            ratio = float(none_values)/float(total)\n",
    "            if ratio > 0.5:  \n",
    "                pass         \n",
    "            else:\n",
    "                res = res[5:-5]\n",
    "                res = [x for x in res if x is not None]\n",
    "                counter+=1\n",
    "                filename, file_extension = os.path.splitext(srt)\n",
    "                fname = filename.split('/')[-1]\n",
    "                fname = results_raw + str(counter)+'_'+fname+'.txt'\n",
    "                with open(fname, mode='wt', encoding='utf-8') as myfile:\n",
    "                    myfile.write('\\n'.join(res))\n",
    "                #print(res)"
   ]
  },
  {
   "cell_type": "code",
   "execution_count": null,
   "metadata": {
    "collapsed": true
   },
   "outputs": [],
   "source": []
  }
 ],
 "metadata": {
  "anaconda-cloud": {},
  "kernelspec": {
   "display_name": "Python [conda root]",
   "language": "python",
   "name": "conda-root-py"
  },
  "language_info": {
   "codemirror_mode": {
    "name": "ipython",
    "version": 3
   },
   "file_extension": ".py",
   "mimetype": "text/x-python",
   "name": "python",
   "nbconvert_exporter": "python",
   "pygments_lexer": "ipython3",
   "version": "3.5.2"
  }
 },
 "nbformat": 4,
 "nbformat_minor": 1
}
