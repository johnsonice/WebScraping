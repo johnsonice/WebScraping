{
 "cells": [
  {
   "cell_type": "code",
   "execution_count": 1,
   "metadata": {
    "collapsed": true
   },
   "outputs": [],
   "source": [
    "from bs4 import BeautifulSoup\n",
    "import requests\n",
    "import pandas as pd\n",
    "import os "
   ]
  },
  {
   "cell_type": "code",
   "execution_count": 2,
   "metadata": {
    "collapsed": true
   },
   "outputs": [],
   "source": [
    "df = pd.read_csv('data/Ted_links.csv')"
   ]
  },
  {
   "cell_type": "code",
   "execution_count": 3,
   "metadata": {
    "collapsed": true
   },
   "outputs": [],
   "source": [
    "df2=df.ix[:10]"
   ]
  },
  {
   "cell_type": "code",
   "execution_count": 4,
   "metadata": {
    "collapsed": true
   },
   "outputs": [],
   "source": [
    "def get_id(url):\n",
    "    #url = 'https://www.ted.com/talks/juan_enriquez_what_will_humans_look_like_in_100_years?language=zh-cn'\n",
    "    try:\n",
    "        result = requests.get(url)\n",
    "        print(result.status_code)\n",
    "        c = result.content\n",
    "        soup = BeautifulSoup(c,\"lxml\")\n",
    "        doc_id= soup.find('meta',{'property':'al:ios:url'})['content']\n",
    "        id = doc_id.split('?')[0].split('/')[-1]\n",
    "        return id \n",
    "    except:\n",
    "        return None"
   ]
  },
  {
   "cell_type": "code",
   "execution_count": 5,
   "metadata": {
    "collapsed": true
   },
   "outputs": [],
   "source": [
    "def download_srt(url,fname):\n",
    "    #url = 'https://ted2srt.org/api/talks/2632/transcripts/download/srt?lang=en&lang=zh-cn'\n",
    "    try:\n",
    "        result = requests.get(url)\n",
    "        res= result.content\n",
    "        with open( fname, \"wb\" ) as f :\n",
    "              f.write( res )\n",
    "        return True\n",
    "    except:\n",
    "        return False"
   ]
  },
  {
   "cell_type": "code",
   "execution_count": 6,
   "metadata": {
    "collapsed": false
   },
   "outputs": [
    {
     "name": "stdout",
     "output_type": "stream",
     "text": [
      "200\n",
      "0 2645\n",
      "200\n",
      "1 2638\n",
      "200\n",
      "2 2591\n",
      "200\n",
      "3 2632\n",
      "200\n",
      "4 2620\n",
      "200\n",
      "5 2624\n",
      "200\n",
      "6 2621\n",
      "200\n",
      "7 2617\n",
      "200\n",
      "8 2616\n",
      "200\n",
      "9 2614\n",
      "200\n",
      "10 2611\n"
     ]
    }
   ],
   "source": [
    "for index,row in df2.iterrows():\n",
    "    link = row['link'].split('?')[0]\n",
    "    response = get_id(link)\n",
    "    df.loc[index,'id']= response\n",
    "    print(index,response)"
   ]
  },
  {
   "cell_type": "code",
   "execution_count": 7,
   "metadata": {
    "collapsed": true
   },
   "outputs": [],
   "source": [
    "#df=df.ix[:5]\n",
    "for index,row in df2.iterrows():\n",
    "    try:\n",
    "        link ='https://ted2srt.org/api/talks/' + row['id'] +'/transcripts/download/srt?lang=en&lang=zh-cn'\n",
    "        fname = 'test/' + row['title'] + '.srt'\n",
    "        response = download_srt(link,fname)\n",
    "        df.loc[index,'status']= response\n",
    "        print(index,response)\n",
    "    except:\n",
    "        df.loc[index,'status']= False"
   ]
  },
  {
   "cell_type": "code",
   "execution_count": null,
   "metadata": {
    "collapsed": true
   },
   "outputs": [],
   "source": []
  }
 ],
 "metadata": {
  "anaconda-cloud": {},
  "kernelspec": {
   "display_name": "Python [conda root]",
   "language": "python",
   "name": "conda-root-py"
  },
  "language_info": {
   "codemirror_mode": {
    "name": "ipython",
    "version": 3
   },
   "file_extension": ".py",
   "mimetype": "text/x-python",
   "name": "python",
   "nbconvert_exporter": "python",
   "pygments_lexer": "ipython3",
   "version": "3.5.2"
  }
 },
 "nbformat": 4,
 "nbformat_minor": 1
}
