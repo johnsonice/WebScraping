{
 "cells": [
  {
   "cell_type": "code",
   "execution_count": 35,
   "metadata": {
    "collapsed": false
   },
   "outputs": [],
   "source": [
    "import ass\n",
    "import re\n",
    "import os \n",
    "from os import path\n",
    "import patoolib               #for unpacking\n",
    "from pyunpack import Archive  # for unpacking\n",
    "from shutil import copyfile\n",
    "import pysrt\n",
    "from mafan import simplify\n",
    "from guess_language import guess_language\n",
    "from itertools import compress"
   ]
  },
  {
   "cell_type": "code",
   "execution_count": 36,
   "metadata": {
    "collapsed": false
   },
   "outputs": [],
   "source": [
    "## get rid of all tags \n",
    "def replace_special(line_str):\n",
    "    line_str = re.sub(r'\\{.*\\}','',line_str)\n",
    "    return line_str \n",
    "def check_chinese(text):\n",
    "    ch = re.findall(r'[\\u4e00-\\u9fff]+', text)\n",
    "    return ch\n",
    "def check_english(text):\n",
    "    en = re.findall(r\"[A-Za-z]+\", text)\n",
    "    return en\n",
    "\n",
    "## use either gbk or big5 or utf-8\n",
    "def open_ass(file):\n",
    "    try:\n",
    "        with open(file, \"r\",encoding=\"gbk\") as f:\n",
    "             doc = ass.parse(f)\n",
    "        return doc \n",
    "    except:\n",
    "        pass\n",
    "    try:\n",
    "        with open(file, \"r\",encoding=\"big5\") as f:\n",
    "             doc = ass.parse(f)\n",
    "        return doc \n",
    "    except:\n",
    "        pass\n",
    "    try:\n",
    "        with open(file, \"r\",encoding=\"utf-8\") as f:\n",
    "             doc = ass.parse(f)\n",
    "        return doc \n",
    "    except:\n",
    "        pass\n",
    "    \n",
    "    return None\n",
    "\n",
    "def process_language(ele):\n",
    "    try:\n",
    "        text_list = ele.text.split('\\\\N')\n",
    "        text_list = [replace_special(x) for x in text_list]\n",
    "        languages = [guess_language(l) for l in text_list]\n",
    "        en_index = [l=='en' for l in languages]\n",
    "        zh_index = [l=='zh' for l in languages]\n",
    "        en_lines = list(compress(text_list,en_index))\n",
    "        zh_lines = list(compress(text_list,zh_index))\n",
    "        if len(en_lines)==0 or len(zh_lines)==0:\n",
    "            return None\n",
    "        en_text = ' '.join(en_lines)\n",
    "        if len(check_chinese(en_text)) > 0:\n",
    "            return None \n",
    "        zh_text = simplify(' '.join(zh_lines))\n",
    "        if len(check_english(zh_text))>0:\n",
    "            return None\n",
    "        text_line = en_text + ' | ' + zh_text\n",
    "        return text_line\n",
    "    except:\n",
    "        return None\n",
    "    \n",
    "def validate_ass(file):\n",
    "    subs = open_ass(file)\n",
    "    if subs is not None:\n",
    "        subs = subs.events\n",
    "        languages = [process_language(ele) for ele in subs]\n",
    "        return languages\n",
    "    else:\n",
    "        #print('Can not decode.')\n",
    "        return None"
   ]
  },
  {
   "cell_type": "code",
   "execution_count": 31,
   "metadata": {
    "collapsed": false
   },
   "outputs": [
    {
     "name": "stdout",
     "output_type": "stream",
     "text": [
      "None\n",
      "None\n"
     ]
    }
   ],
   "source": [
    "\n",
    "data_ass = [\"test.ass\",\"test.ass\"]\n"
   ]
  },
  {
   "cell_type": "code",
   "execution_count": 51,
   "metadata": {
    "collapsed": false
   },
   "outputs": [
    {
     "name": "stdout",
     "output_type": "stream",
     "text": [
      "2\n"
     ]
    }
   ],
   "source": [
    "## search for srts with both chinese and english in it\n",
    "## and transform them into txt, seperated by |, dump to results raw\n",
    "#data_srts = [data_srt + f for f in os.listdir(data_srt)]\n",
    "data_ass = [\"test.ass\",\"test.ass\"]\n",
    "results_raw = \"\"\n",
    "counter=0\n",
    "for ass_file in data_ass:\n",
    "    res = validate_ass(ass_file)\n",
    "    if res is not None: \n",
    "        total = len(res)\n",
    "        #print(total) \n",
    "        if total > 0:\n",
    "            none_values = sum([x is None for x in res ])\n",
    "            ratio = float(none_values)/float(total)\n",
    "            if ratio > 0.5:  \n",
    "                pass         \n",
    "            else:\n",
    "                res_short = res[5:-5]\n",
    "                res_short = [x for x in res_short if x is not None]\n",
    "                counter+=1\n",
    "                filename, file_extension = os.path.splitext(ass_file)\n",
    "                fname = filename.split('/')[-1]\n",
    "                fname = results_raw + str(counter)+'_'+fname+'.txt'\n",
    "                with open(fname, mode='wt', encoding='utf-8') as myfile:\n",
    "                    myfile.write('\\n'.join(res_short))\n",
    "                if counter%2 == 0:\n",
    "                    print(counter)\n"
   ]
  },
  {
   "cell_type": "code",
   "execution_count": 46,
   "metadata": {
    "collapsed": false
   },
   "outputs": [
    {
     "data": {
      "text/plain": [
       "2"
      ]
     },
     "execution_count": 46,
     "metadata": {},
     "output_type": "execute_result"
    }
   ],
   "source": []
  },
  {
   "cell_type": "code",
   "execution_count": null,
   "metadata": {
    "collapsed": true
   },
   "outputs": [],
   "source": []
  }
 ],
 "metadata": {
  "anaconda-cloud": {},
  "kernelspec": {
   "display_name": "Python [conda root]",
   "language": "python",
   "name": "conda-root-py"
  },
  "language_info": {
   "codemirror_mode": {
    "name": "ipython",
    "version": 3
   },
   "file_extension": ".py",
   "mimetype": "text/x-python",
   "name": "python",
   "nbconvert_exporter": "python",
   "pygments_lexer": "ipython3",
   "version": "3.5.2"
  }
 },
 "nbformat": 4,
 "nbformat_minor": 1
}
